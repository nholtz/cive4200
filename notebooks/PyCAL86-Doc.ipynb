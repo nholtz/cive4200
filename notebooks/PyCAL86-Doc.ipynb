{
 "cells": [
  {
   "cell_type": "markdown",
   "metadata": {},
   "source": [
    "# New PyCAL86 - CAL86 Work-Alike\n",
    "Implement enough of CAL86 for the CIVE 4200 assignments.  CAL commands seem to be C,\n",
    "LOAD, P, PRINT, ADD, MULT, TRAN, ZERO, LOADI, FRAME, ADDK, SOLVE and  MEMFRC.\n",
    "\n",
    "This is a new version that has one %%CELL86 cell magic, which then reads and interprets\n",
    "the following lines in that cell.  The CAL commands work with variables in the normal notebook\n",
    "namespace and so these variables can be examined and manipulated outside of CAL, in normal\n",
    "notebook cells."
   ]
  },
  {
   "cell_type": "code",
   "execution_count": 1,
   "metadata": {
    "collapsed": true
   },
   "outputs": [],
   "source": [
    "import PyCAL86"
   ]
  },
  {
   "cell_type": "markdown",
   "metadata": {},
   "source": [
    "## Documentation and Help"
   ]
  },
  {
   "cell_type": "markdown",
   "metadata": {},
   "source": [
    "### HELP\n",
    "The **HELP** command displays some help."
   ]
  },
  {
   "cell_type": "code",
   "execution_count": null,
   "metadata": {
    "collapsed": false
   },
   "outputs": [],
   "source": [
    "%%CAL86\n",
    "HELP"
   ]
  },
  {
   "cell_type": "markdown",
   "metadata": {},
   "source": [
    "### C\n",
    "The **C** command is a comment and is ignored during processing."
   ]
  },
  {
   "cell_type": "code",
   "execution_count": null,
   "metadata": {
    "collapsed": false
   },
   "outputs": [],
   "source": [
    "%%CAL86\n",
    "C this is a comment\n",
    "C and so is this\n",
    "C me too"
   ]
  },
  {
   "cell_type": "markdown",
   "metadata": {},
   "source": [
    "## Matrix Commands"
   ]
  },
  {
   "cell_type": "markdown",
   "metadata": {},
   "source": [
    "### PRINT $M$ (or P $M$)\n",
    "The **PRINT** or **P** command will cause the matrix in variable $M$ to be displayed on the notebook."
   ]
  },
  {
   "cell_type": "code",
   "execution_count": null,
   "metadata": {
    "collapsed": false
   },
   "outputs": [],
   "source": [
    "%%CAL86\n",
    "print c"
   ]
  },
  {
   "cell_type": "markdown",
   "metadata": {},
   "source": [
    "### LOAD   $M$   R=$nr$   C=$nc$\n",
    "The **LOAD** command will create a matrix in variable $M$, with $nr$ rows and $nc$ columns.\n",
    "The data must immediately follow the LOAD command and it must be supplied one row per line.\n",
    "The column values must be separated by one comma, and/or one or more spaces.  A line of \n",
    "data may be continued by use of a '\\' character at the end of each continued line."
   ]
  },
  {
   "cell_type": "code",
   "execution_count": null,
   "metadata": {
    "collapsed": false
   },
   "outputs": [],
   "source": [
    "%%CAL86\n",
    "LOAD   xx     R=2    C=5\n",
    "1 2 3 \\\n",
    "  4 5\n",
    "10 20 30 40 50\n",
    "P xx"
   ]
  },
  {
   "cell_type": "code",
   "execution_count": null,
   "metadata": {
    "collapsed": false
   },
   "outputs": [],
   "source": [
    "# CAL matrices are just variables in the interactive notebook workspace,\n",
    "# so that they can be directly used in IPython interactions:\n",
    "xx*xx.T"
   ]
  },
  {
   "cell_type": "markdown",
   "metadata": {},
   "source": [
    "### LOADI  $M$   R=$nr$  C=$nc$\n",
    "The **LOADI** command will create an integer matrix in variable $M$, with $nr$ rows and $nc$ columns.\n",
    "The data must immediately follow the LOAD command and it must be supplied one row per line.\n",
    "The column values must be separated by one comma, and/or one or more spaces.  A line of \n",
    "data may be continued by use of a '\\' character at the end of each continued line.\n",
    "All data values are converted to integers."
   ]
  },
  {
   "cell_type": "code",
   "execution_count": null,
   "metadata": {
    "collapsed": false
   },
   "outputs": [],
   "source": [
    "%%CAL86\n",
    "LOADI mm R=3 C=4\n",
    "1 2                 3               4.999\n",
    "5 6 7 8+5\n",
    "9 10 11 \\\n",
    "12\n",
    "PRINT mm"
   ]
  },
  {
   "cell_type": "code",
   "execution_count": null,
   "metadata": {
    "collapsed": false
   },
   "outputs": [],
   "source": [
    "mm.dtype"
   ]
  },
  {
   "cell_type": "markdown",
   "metadata": {},
   "source": [
    "### TRAN  $M_1$  $M_2$\n",
    "The **TRAN** command forms the transpose of the matrix in $M_1$ and places it in $M_2$."
   ]
  },
  {
   "cell_type": "code",
   "execution_count": null,
   "metadata": {
    "collapsed": false
   },
   "outputs": [],
   "source": [
    "%%CAL86\n",
    "TRAN xx yy\n",
    "PRINT xx\n",
    "PRINT yy"
   ]
  },
  {
   "cell_type": "markdown",
   "metadata": {},
   "source": [
    "### ADD  $M_1$  $M_2$\n",
    "The **ADD** command, in a highly inconsistent fashion, adds the matrices in $M_1$ and $M_2$ and places\n",
    "the result back in $M_1$, modifying it in the process.   WHY????"
   ]
  },
  {
   "cell_type": "code",
   "execution_count": null,
   "metadata": {
    "collapsed": false,
    "scrolled": true
   },
   "outputs": [],
   "source": [
    "%%CAL86\n",
    "ADD xx xx\n",
    "PRINT xx\n",
    "ADD yy xx"
   ]
  },
  {
   "cell_type": "markdown",
   "metadata": {},
   "source": [
    "### MULT  $M_1$  $M_2$  $M_3$\n",
    "The **MULT** command multiplies the matrices in $M_1$ and $M_2$ and places the result in $M_3$."
   ]
  },
  {
   "cell_type": "code",
   "execution_count": null,
   "metadata": {
    "collapsed": false,
    "scrolled": false
   },
   "outputs": [],
   "source": [
    "%%CAL86\n",
    "MULT xx yy zz\n",
    "PRINT zz\n",
    "MULT xx zz qq"
   ]
  },
  {
   "cell_type": "markdown",
   "metadata": {},
   "source": [
    "### TMULT  $M_1$  $M_2$  $M_3$\n",
    "The **TMULT** command multiplies the the transpose of the  matrix in $M_1$ and the matrix in $M_2$ and places the result in $M_3$."
   ]
  },
  {
   "cell_type": "code",
   "execution_count": null,
   "metadata": {
    "collapsed": false
   },
   "outputs": [],
   "source": [
    "%%CAL86\n",
    "TMULT xx xx qq\n",
    "PRINT xx\n",
    "PRINT qq\n",
    "TMULT xx yy zz"
   ]
  },
  {
   "cell_type": "markdown",
   "metadata": {},
   "source": [
    "### TTMULT  $M_1$  $M_2$  $M_3$\n",
    "The **TTMULT** command forms the product $M_1^T \\times M_2 \\times M_1$ and places the result in $M_3$."
   ]
  },
  {
   "cell_type": "code",
   "execution_count": null,
   "metadata": {
    "collapsed": false
   },
   "outputs": [],
   "source": [
    "%%CAL86\n",
    "LOAD A R=2 C=2\n",
    "1 2\n",
    "3 4\n",
    "PRINT A\n",
    "LOAD B R=2 C=2\n",
    "10 20\n",
    "30 40\n",
    "PRINT B\n",
    "TTMULT A B C\n",
    "PRINT C\n",
    "TRAN A AT\n",
    "MULT AT B x\n",
    "MULT x A D\n",
    "PRINT D"
   ]
  },
  {
   "cell_type": "markdown",
   "metadata": {},
   "source": [
    "### ZERO  $M_1$  R=$nr$  C=$nc$  [T=$t$]  [D=$d$]\n",
    "The **ZERO** command creates a matrix of size $nr\\times nc$.  If $t$ is specified, all elements\n",
    "will be set to this value (the default value of $t$ is 0 (zero)).  If $d$ is specified and the\n",
    "matrix is square ($nr=nc$), the diagonal values will be set to this (the default value of $d$\n",
    "is $t$)."
   ]
  },
  {
   "cell_type": "code",
   "execution_count": null,
   "metadata": {
    "collapsed": false
   },
   "outputs": [],
   "source": [
    "%%CAL86\n",
    "ZERO QQ R=5 C=5  T=3  D=7\n",
    "PRINT QQ\n",
    "ZERO QR R=3 C=4\n",
    "PRINT QR"
   ]
  },
  {
   "cell_type": "markdown",
   "metadata": {},
   "source": [
    "## Structures Commands"
   ]
  },
  {
   "cell_type": "markdown",
   "metadata": {
    "collapsed": true
   },
   "source": [
    "### FRAME  $K$ $T$  I=$I_x$  A=$A$  E=$E$  X=$x_j,x_k$  Y=$y_j,y_k$\n",
    "The **FRAME** command forms the 6x6 element stiffness matrix, $K$, and a 4x6 force-displacement\n",
    "matrix $T$ for a general two-dimensional bending member with axial deformations included in\n",
    "the formulation.  The properties of the member are given as:\n",
    "  > $I_x$ = the moment of inertia of the member, and\n",
    "  \n",
    "  > $A$ = the cross-sectional area of the member, and\n",
    "  \n",
    "  > $E$ = the Modulus of Elasticity of the member.\n",
    "  \n",
    "The coordinates of the \"$j$\" and \"$k$\" ends of the member are defined by $x_j,x_k$ and\n",
    "$y_j,y_k$ respectively.  Note that the user is responsible for the definition of the $j$ and\n",
    "$k$ ends of the member.\n",
    "\n",
    "*more to come from the CAL86 manual*\n",
    "\n",
    "![signs](img/2d-signs.svg)"
   ]
  },
  {
   "cell_type": "code",
   "execution_count": 2,
   "metadata": {
    "collapsed": false,
    "scrolled": true
   },
   "outputs": [
    {
     "name": "stdout",
     "output_type": "stream",
     "text": [
      "\n",
      "K4:\n",
      "[[    461.43956   -1111.09788   -6830.51975    -461.43956    1111.09788   -6830.51975]\n",
      " [  -1111.09788    3424.36723   -2276.83992    1111.09788   -3424.36723   -2276.83992]\n",
      " [  -6830.51975   -2276.83992  758946.63844    6830.51975    2276.83992  379473.31922]\n",
      " [   -461.43956    1111.09788    6830.51975     461.43956   -1111.09788    6830.51975]\n",
      " [   1111.09788   -3424.36723    2276.83992   -1111.09788    3424.36723    2276.83992]\n",
      " [  -6830.51975   -2276.83992  379473.31922    6830.51975    2276.83992  758946.63844]]\n",
      "T4:\n",
      "[[  -6830.51975   -2276.83992  758946.63844    6830.51975    2276.83992  379473.31922]\n",
      " [  -6830.51975   -2276.83992  379473.31922    6830.51975    2276.83992  758946.63844]\n",
      " [   1200.        -3600.            0.        -1200.         3600.            0.     ]\n",
      " [    -86.4         -28.8        7200.           86.4          28.8        7200.     ]]\n"
     ]
    }
   ],
   "source": [
    "%%CAL86\n",
    "FRAME K4 T4 I=1000 A=20 E=30000   X=400,350 Y=0,150\n",
    "PRINT K4\n",
    "PRINT T4"
   ]
  },
  {
   "cell_type": "markdown",
   "metadata": {
    "collapsed": true
   },
   "source": [
    "### TRUSS  $K$ $T$  A=$A$  E=$E$  X=$x_j,x_k$  Y=$y_j,y_k$\n",
    "The **TRUSS** command forms the 4x4 element stiffness matrix, $K$, and a 4x4 force-displacement\n",
    "matrix $T$ for a general two-dimensional truss member with only axial deformations included in\n",
    "the formulation.  The properties of the member are given as\n",
    "\n",
    "  > $A$ = the cross-sectional area of the member, and\n",
    "  \n",
    "  > $E$ = the Modulus of Elasticity of the member.\n",
    "  \n",
    "The coordinates of the \"$j$\" and \"$k$\" ends of the member are defined by $x_j,x_k$ and\n",
    "$y_j,y_k$ respectively.  Note that the user is responsible for the definition of the $j$ and\n",
    "$k$ ends of the member.\n",
    "\n",
    "![signs](img/2dtruss-signs.svg)"
   ]
  },
  {
   "cell_type": "code",
   "execution_count": 3,
   "metadata": {
    "collapsed": false
   },
   "outputs": [
    {
     "name": "stdout",
     "output_type": "stream",
     "text": [
      "\n",
      "K5:\n",
      "[[ 25600.  19200. -25600. -19200.]\n",
      " [ 19200.  14400. -19200. -14400.]\n",
      " [-25600. -19200.  25600.  19200.]\n",
      " [-19200. -14400.  19200.  14400.]]\n",
      "T5:\n",
      "[[ 32000.  24000. -32000. -24000.]\n",
      " [     0.      0.      0.      0.]\n",
      " [-32000. -24000.  32000.  24000.]\n",
      " [     0.      0.      0.      0.]]\n"
     ]
    }
   ],
   "source": [
    "%%CAL86\n",
    "TRUSS K5 T5 A=1000 E=200000 X=1000,5000 Y=2000,5000\n",
    "PRINT K5\n",
    "PRINT T5"
   ]
  },
  {
   "cell_type": "markdown",
   "metadata": {
    "collapsed": true
   },
   "source": [
    "### ADDK  $K$  $EK$  $ID$  N=$n$\n",
    "The element stiffness matrix $EK$ is added to the total stiffness matrix $K$.  The row and column numbers where the terms are to be added are obtained from column $n$ of the $L\\times m$ integer matrix $ID$ (where $m$ is the total number of members and $L$ is the size of $EK$ - either 4x4 or 6x6)."
   ]
  },
  {
   "cell_type": "code",
   "execution_count": null,
   "metadata": {
    "collapsed": false
   },
   "outputs": [],
   "source": [
    "%%CAL86\n",
    "LOAD K1 R=6 C=6\n",
    "100 101 102 103 104 105\n",
    "110 111 112 113 114 115\n",
    "120 121 122 123 124 125\n",
    "130 131 132 133 134 135\n",
    "140 141 142 143 144 145\n",
    "150 151 152 153 154 155\n",
    "LOADI IN R=6 C=4\n",
    "0 1 2 3\n",
    "1 2 3 4\n",
    "2 3 4 5\n",
    "3 7 5 6\n",
    "4 8 6 7\n",
    "5 9 7 8\n",
    "PRINT K1\n",
    "PRINT IN\n",
    "ZERO K R=10 C=10\n",
    "ADDK K K1 IN N=1\n",
    "PRINT K\n",
    "\n",
    "ADDK K K1 IN N=1\n",
    "PRINT K"
   ]
  },
  {
   "cell_type": "markdown",
   "metadata": {},
   "source": [
    "### PSOLVE  $A$  $D$  $P$  PS=$p$\n",
    "The command **PSOLVE** solves the linear set of equations $A D = P$ and places the result in matrix $D$.\n",
    "If PS=$p$ is given, then $p$ is the unconstrained partition size (the number of unconstrained degrees\n",
    "of freedom), and the partion $A_{uu} D_u + A_{uc} D_c = P_u$ is solved for $D_u$ with given $D_c$ (support\n",
    "displacements - normally 0).\n",
    "For a partioned solution, $P_c$ (the support reactions) are determined from: $P_c = A_{cu} D_u + A_{cc} D_c$."
   ]
  },
  {
   "cell_type": "code",
   "execution_count": null,
   "metadata": {
    "collapsed": false
   },
   "outputs": [],
   "source": [
    "%%CAL86\n",
    "LOAD K R=5 C=5\n",
    "5 3 2 1 0\n",
    "3 4 3 2 1\n",
    "2 3 5 3 1\n",
    "1 2 3 6 2\n",
    "0 1 1 2 5\n",
    "\n",
    "LOAD D R=5 C=1\n",
    "10\n",
    "20\n",
    "30\n",
    "20\n",
    "10\n",
    "\n",
    "MULT K D P\n",
    "PRINT D\n",
    "PRINT P"
   ]
  },
  {
   "cell_type": "code",
   "execution_count": null,
   "metadata": {
    "collapsed": true
   },
   "outputs": [],
   "source": [
    "P[3:,:] = 0     # set forces at constrained DOF to 0.  So we can see what happens when computed later.\n",
    "D[:3,:] = 0     # set displacements at unconstrained DOF to 0.  So we can see what happens when computed later."
   ]
  },
  {
   "cell_type": "code",
   "execution_count": null,
   "metadata": {
    "collapsed": false
   },
   "outputs": [],
   "source": [
    "%%CAL86\n",
    "PRINT D\n",
    "PRINT P\n",
    "\n",
    "PSOLVE K D P PS=3\n",
    "PRINT D\n",
    "PRINT P"
   ]
  },
  {
   "cell_type": "code",
   "execution_count": null,
   "metadata": {
    "collapsed": false
   },
   "outputs": [],
   "source": [
    "%%CAL86\n",
    "PSOLVE K x P\n",
    "PRINT x"
   ]
  },
  {
   "cell_type": "code",
   "execution_count": null,
   "metadata": {
    "collapsed": false
   },
   "outputs": [],
   "source": [
    "%%CAL86\n",
    "PSOLVE K QQQ P PS=3"
   ]
  },
  {
   "cell_type": "code",
   "execution_count": null,
   "metadata": {
    "collapsed": false
   },
   "outputs": [],
   "source": [
    "%%CAL86\n",
    "PSOLVE xx yy zz"
   ]
  },
  {
   "cell_type": "markdown",
   "metadata": {},
   "source": [
    "### SOLVE  $A$  $B$  S=$p$\n",
    "The command **SOLVE** solves the linear set of equations $A x = B$ for $x$ and places the result $x$ in matrix $B$.\n",
    "If S=$p$ is given, then $p$ may only have the value 0.\n",
    "\n",
    "This command is only for compatibilty with traditional CAL.  It will rarely be used."
   ]
  },
  {
   "cell_type": "markdown",
   "metadata": {},
   "source": [
    "### MEMFRC  $T$  $U$  $ID$  $P$  N=$n$\n",
    "The member forces are evaluated by multiplying the matrix $T$ by the joiunt displacements $U$ and\n",
    "storing the results in matrix $P$.  The joint displacements that are used are obtained from\n",
    "column $n$ of integer array $ID$.  If $T$ is the 6x6 element stiffness matrix returned in the first\n",
    "matrix of the FRAME command, the forces are given according to the global coordinate system.\n",
    "If $T$ is the 4x6 force-displacement transformation matrix returned in the second matrix of the FRAME command, \n",
    "the forces will be given in a simplified, 4-element local coordinate system."
   ]
  },
  {
   "cell_type": "code",
   "execution_count": null,
   "metadata": {
    "collapsed": false
   },
   "outputs": [],
   "source": [
    "%%CAL86\n",
    "FRAME K1 T1 I=1000 A=20 E=30000 X=0,0 Y=100,0\n",
    "\n",
    "LOADI IN R=6 C=3\n",
    "0 3 0\n",
    "1 4 1\n",
    "2 5 2\n",
    "3 6 6\n",
    "4 7 7\n",
    "5 8 8\n",
    "\n",
    "LOAD D R=10 C=1\n",
    "1\n",
    "2\n",
    "3\n",
    "4\n",
    "5\n",
    "6\n",
    "7\n",
    "8\n",
    "9\n",
    "10\n",
    "\n",
    "PRINT K1\n",
    "PRINT T1\n",
    "PRINT IN\n",
    "PRINT D\n",
    "\n",
    "MEMFRC K1 D IN P1 N=0\n",
    "PRINT P1\n",
    "\n",
    "MEMFRC T1 D IN P2 N=2\n",
    "PRINT P2"
   ]
  },
  {
   "cell_type": "code",
   "execution_count": null,
   "metadata": {
    "collapsed": false
   },
   "outputs": [],
   "source": [
    "D[[0,1,2,3,4,5],:]"
   ]
  },
  {
   "cell_type": "code",
   "execution_count": null,
   "metadata": {
    "collapsed": false
   },
   "outputs": [],
   "source": [
    "K1*D[[0,1,2,3,4,5],:]"
   ]
  },
  {
   "cell_type": "code",
   "execution_count": null,
   "metadata": {
    "collapsed": false
   },
   "outputs": [],
   "source": [
    "D[[0,1,2,6,7,8],:]"
   ]
  },
  {
   "cell_type": "code",
   "execution_count": null,
   "metadata": {
    "collapsed": false
   },
   "outputs": [],
   "source": [
    "T1*D[[0,1,2,6,7,8],:]"
   ]
  },
  {
   "cell_type": "code",
   "execution_count": null,
   "metadata": {
    "collapsed": true
   },
   "outputs": [],
   "source": []
  }
 ],
 "metadata": {
  "kernelspec": {
   "display_name": "Python 2",
   "language": "python",
   "name": "python2"
  },
  "language_info": {
   "codemirror_mode": {
    "name": "ipython",
    "version": 2
   },
   "file_extension": ".py",
   "mimetype": "text/x-python",
   "name": "python",
   "nbconvert_exporter": "python",
   "pygments_lexer": "ipython2",
   "version": "2.7.6"
  }
 },
 "nbformat": 4,
 "nbformat_minor": 0
}
