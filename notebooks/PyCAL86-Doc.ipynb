{
 "cells": [
  {
   "cell_type": "markdown",
   "metadata": {},
   "source": [
    "# PyCAL86:  CAL86 Work-Alike\n",
    "This module implement enough of CAL86 for the CIVE 4200 assignments.  CAL commands seem to be C,\n",
    "LOAD, P, PRINT, ADD, MULT, TRAN, ZERO, LOADI, FRAME, ADDK, SOLVE and  MEMFRC.  In addition, we add\n",
    "the following commands:  TTMULT, PSOLVE and TRUSS2D\n",
    "\n",
    "This module implements one %%CELL86 cell magic, which then reads and interprets\n",
    "the following lines in that cell.  The CAL commands work with variables in the normal notebook\n",
    "namespace and so these variables can be examined and manipulated outside of CAL, in normal\n",
    "notebook cells.\n",
    "\n",
    "#### Available commands:\n",
    "\n",
    "* [ADD](#ADD-Command) - Form the sum of two matrices.\n",
    "* [ADDK](#ADDK-Command) - Add an element stiffness to the structure stiffness.\n",
    "* [C](#C-Command) - Comment your code.\n",
    "* [FRAME](#FRAME-Command) - Form a frame element stiffness matrix.\n",
    "* [HELP](#HELP-Command) - Help.\n",
    "* [LOAD](#LOAD-Command) - Load float point numbers int a matrix.\n",
    "* [LOADI](#LOADI-Command) - Load integer numbers into a matrix (GLOBAL DOF indices, usually).\n",
    "* [MEMFRC](#MEMFRC-Command) - Calculate member end forces from displacements.\n",
    "* [MULT](#MULT-Command) - Form the product of two matrices.\n",
    "* [P](#P-Command) - Print a matrix.\n",
    "* [PRINT](#PRINT-Command) - Print a matrix.\n",
    "* [PSOLVE](#PSOLVE-Command) - Solve a partitioned set of equations.\n",
    "* [SOLVE](#SOLVE-Command) - Solve a set of equations.\n",
    "* [TMULT](#TMULT-Command) - Multiply a matrix by the transpose of a matrix.\n",
    "* [TRAN](#TRAN-Command) - Form the transpose of a matrix.\n",
    "* [TRUSS](#TRUSS-Command) - Form a truss element stiffness matrix.\n",
    "* [TTMULT](#TTMULT-Command) - Form the product $[T]^T [K] [T]$ from $[T]$ and $[K]$.\n",
    "* [ZERO](#ZERO-Command) - Create a matrix of zeros.\n",
    "\n",
    "**Note:** An interactive version of this documentation page is available at\n",
    "[http://holtz2.cee.carleton.ca:8000/notebooks/cive4200/PyCAL86-Doc.ipynb](http://holtz2.cee.carleton.ca:8000/notebooks/cive4200/PyCAL86-Doc.ipynb).\n",
    "If you want to experiment with any of its interactive cells, remember to first select and excecute\n",
    "menu item **Cell / Run All** from the top menu bar.\n"
   ]
  },
  {
   "cell_type": "code",
   "execution_count": 1,
   "metadata": {
    "collapsed": true
   },
   "outputs": [],
   "source": [
    "import PyCAL86"
   ]
  },
  {
   "cell_type": "markdown",
   "metadata": {},
   "source": [
    "# Documentation and Help"
   ]
  },
  {
   "cell_type": "markdown",
   "metadata": {},
   "source": [
    "## HELP Command"
   ]
  },
  {
   "cell_type": "markdown",
   "metadata": {},
   "source": [
    "### Usage: HELP\n",
    "The **HELP** command displays some help."
   ]
  },
  {
   "cell_type": "code",
   "execution_count": 2,
   "metadata": {
    "collapsed": false
   },
   "outputs": [
    {
     "name": "stdout",
     "output_type": "stream",
     "text": [
      "\n",
      "Available CAL commands: ADD, ADDK, C, FRAME, HELP, LOAD, LOADI, MEMFRC, MULT, P, PRINT, PSOLVE, SOLVE, TMULT, TRAN, TRUSS, TTMULT, ZERO\n"
     ]
    }
   ],
   "source": [
    "%%CAL86\n",
    "HELP"
   ]
  },
  {
   "cell_type": "markdown",
   "metadata": {},
   "source": [
    "You can also get help on an individual command:"
   ]
  },
  {
   "cell_type": "code",
   "execution_count": 3,
   "metadata": {
    "collapsed": false
   },
   "outputs": [
    {
     "name": "stdout",
     "output_type": "stream",
     "text": [
      "\n",
      "TTMULT:\n",
      "Multiply two matrices.\n",
      "    \n",
      "    Usage:\n",
      "    \n",
      "    TTMULT  M1  M2  M3\n",
      "    \n",
      "    The matrix product M1' * M2 * M1 is formed\n",
      "    and stored in variable M3.\n"
     ]
    }
   ],
   "source": [
    "%%CAL86\n",
    "HELP TTMULT"
   ]
  },
  {
   "cell_type": "markdown",
   "metadata": {},
   "source": [
    "## C Command"
   ]
  },
  {
   "cell_type": "markdown",
   "metadata": {},
   "source": [
    "### Usage: C\n",
    "The **C** command is a comment and is ignored during processing."
   ]
  },
  {
   "cell_type": "code",
   "execution_count": 4,
   "metadata": {
    "collapsed": false
   },
   "outputs": [],
   "source": [
    "%%CAL86\n",
    "C this is a comment\n",
    "C and so is this\n",
    "C me too"
   ]
  },
  {
   "cell_type": "markdown",
   "metadata": {},
   "source": [
    "# Matrix Commands"
   ]
  },
  {
   "cell_type": "markdown",
   "metadata": {},
   "source": [
    "## PRINT Command\n",
    "## P Command"
   ]
  },
  {
   "cell_type": "markdown",
   "metadata": {},
   "source": [
    "### Usage: PRINT $M$ (or P $M$)\n",
    "The **PRINT** or **P** command will cause the matrix in variable $M$ to be displayed on the notebook."
   ]
  },
  {
   "cell_type": "code",
   "execution_count": 5,
   "metadata": {
    "collapsed": false
   },
   "outputs": [
    {
     "name": "stdout",
     "output_type": "stream",
     "text": [
      "\n",
      "c:\n",
      "[[ 3.  0.  0.]\n",
      " [ 0.  3.  0.]\n",
      " [ 0.  0.  3.]]\n"
     ]
    }
   ],
   "source": [
    "%%CAL86\n",
    "ZERO c R=3 C=3 D=3\n",
    "print c"
   ]
  },
  {
   "cell_type": "markdown",
   "metadata": {},
   "source": [
    "## LOAD Command"
   ]
  },
  {
   "cell_type": "markdown",
   "metadata": {},
   "source": [
    "### Usage: LOAD   $M$   R=$nr$   C=$nc$\n",
    "The **LOAD** command will create a matrix in variable $M$, with $nr$ rows and $nc$ columns.\n",
    "The data must immediately follow the LOAD command and it must be supplied one row per line.\n",
    "The column values must be separated by one comma, and/or one or more spaces.  A line of \n",
    "data may be continued by use of a '\\' character at the end of each continued line."
   ]
  },
  {
   "cell_type": "code",
   "execution_count": 6,
   "metadata": {
    "collapsed": false
   },
   "outputs": [
    {
     "name": "stdout",
     "output_type": "stream",
     "text": [
      "\n",
      "xx:\n",
      "[[  1.   2.   3.   4.   5.]\n",
      " [ 10.  20.  30.  40.  50.]]\n"
     ]
    }
   ],
   "source": [
    "%%CAL86\n",
    "LOAD   xx     R=2    C=5\n",
    "1 2 3 \\\n",
    "  4 5\n",
    "10 20 30 40 50\n",
    "PRINT xx"
   ]
  },
  {
   "cell_type": "markdown",
   "metadata": {},
   "source": [
    "CAL matrices are just variables in the interactive notebook workspace,\n",
    "so that they can be directly used in IPython interactions:"
   ]
  },
  {
   "cell_type": "code",
   "execution_count": 7,
   "metadata": {
    "collapsed": false
   },
   "outputs": [
    {
     "data": {
      "text/plain": [
       "matrix([[   55.,   550.],\n",
       "        [  550.,  5500.]])"
      ]
     },
     "execution_count": 7,
     "metadata": {},
     "output_type": "execute_result"
    }
   ],
   "source": [
    "xx*xx.T"
   ]
  },
  {
   "cell_type": "markdown",
   "metadata": {},
   "source": [
    "Expressions containing notebook variables may be used as elements in the\n",
    "matrix data, as long as there are no spaces in the expression.  This allows for\n",
    "some convenience in building matrices.  For example:"
   ]
  },
  {
   "cell_type": "code",
   "execution_count": 8,
   "metadata": {
    "collapsed": true
   },
   "outputs": [],
   "source": [
    "E = 200000.\n",
    "A = 1000.\n",
    "L = 5000.\n",
    "k = E*A/L"
   ]
  },
  {
   "cell_type": "code",
   "execution_count": 9,
   "metadata": {
    "collapsed": false
   },
   "outputs": [
    {
     "name": "stdout",
     "output_type": "stream",
     "text": [
      "\n",
      "LK:\n",
      "[[ 40000.      0. -40000.      0.]\n",
      " [     0.      0.      0.      0.]\n",
      " [-40000.      0.  80000.      0.]\n",
      " [     0.      0.      0.      0.]]\n"
     ]
    }
   ],
   "source": [
    "%%CAL86\n",
    "LOAD LK R=4 C=4\n",
    "k 0 -k 0\n",
    "0 0 0 0\n",
    "-k 0 2*k 0\n",
    "0 0 0 0\n",
    "PRINT LK"
   ]
  },
  {
   "cell_type": "markdown",
   "metadata": {},
   "source": [
    "## LOADI Command"
   ]
  },
  {
   "cell_type": "markdown",
   "metadata": {},
   "source": [
    "### Usage: LOADI  $M$   R=$nr$  C=$nc$\n",
    "The **LOADI** command will create an integer matrix in variable $M$, with $nr$ rows and $nc$ columns.\n",
    "The data must immediately follow the LOAD command and it must be supplied one row per line.\n",
    "The column values must be separated by one comma, and/or one or more spaces.  A line of \n",
    "data may be continued by use of a '\\' character at the end of each continued line.\n",
    "All data values are converted to integers.\n",
    "\n",
    "See the [ADDK Command](#ADDK-Command), below for the normal use of LOADI and for the meaning of the data."
   ]
  },
  {
   "cell_type": "code",
   "execution_count": 10,
   "metadata": {
    "collapsed": false
   },
   "outputs": [
    {
     "name": "stdout",
     "output_type": "stream",
     "text": [
      "\n",
      "mm:\n",
      "[[ 1  2  3  4]\n",
      " [ 5  6  7 13]\n",
      " [ 9 10 11 12]]\n"
     ]
    }
   ],
   "source": [
    "%%CAL86\n",
    "LOADI mm R=3 C=4\n",
    "1 2                 3               4.999\n",
    "5 6 7 8+5\n",
    "9 10 11 \\\n",
    "12\n",
    "PRINT mm"
   ]
  },
  {
   "cell_type": "code",
   "execution_count": 11,
   "metadata": {
    "collapsed": false
   },
   "outputs": [
    {
     "data": {
      "text/plain": [
       "dtype('int64')"
      ]
     },
     "execution_count": 11,
     "metadata": {},
     "output_type": "execute_result"
    }
   ],
   "source": [
    "mm.dtype"
   ]
  },
  {
   "cell_type": "markdown",
   "metadata": {},
   "source": [
    "## TRAN Command"
   ]
  },
  {
   "cell_type": "markdown",
   "metadata": {},
   "source": [
    "### Usage: TRAN  $M_1$  $M_2$\n",
    "The **TRAN** command forms the transpose of the matrix in $M_1$ and places it in $M_2$."
   ]
  },
  {
   "cell_type": "code",
   "execution_count": 12,
   "metadata": {
    "collapsed": false
   },
   "outputs": [
    {
     "name": "stdout",
     "output_type": "stream",
     "text": [
      "\n",
      "xx:\n",
      "[[  1.   2.   3.   4.   5.]\n",
      " [ 10.  20.  30.  40.  50.]]\n",
      "yy:\n",
      "[[  1.  10.]\n",
      " [  2.  20.]\n",
      " [  3.  30.]\n",
      " [  4.  40.]\n",
      " [  5.  50.]]\n"
     ]
    }
   ],
   "source": [
    "%%CAL86\n",
    "TRAN xx yy\n",
    "PRINT xx\n",
    "PRINT yy"
   ]
  },
  {
   "cell_type": "markdown",
   "metadata": {},
   "source": [
    "## ADD Command"
   ]
  },
  {
   "cell_type": "markdown",
   "metadata": {},
   "source": [
    "### Usage: ADD  $M_1$  $M_2$\n",
    "The **ADD** command adds the matrices in $M_1$ and $M_2$ and places\n",
    "the result back in $M_1$, modifying it in the process.   (Editors note:  this is highly inconsistent!! WHY is it done this way????\n",
    "No other commands do this type of thing.  Sheesh!)"
   ]
  },
  {
   "cell_type": "code",
   "execution_count": 13,
   "metadata": {
    "collapsed": false,
    "scrolled": true
   },
   "outputs": [
    {
     "name": "stdout",
     "output_type": "stream",
     "text": [
      "\n",
      "xx:\n",
      "[[  1.   2.   3.   4.   5.]\n",
      " [ 10.  20.  30.  40.  50.]]\n",
      "xx:\n",
      "[[   2.    4.    6.    8.   10.]\n",
      " [  20.   40.   60.   80.  100.]]\n"
     ]
    }
   ],
   "source": [
    "%%CAL86\n",
    "PRINT xx\n",
    "ADD xx xx\n",
    "PRINT xx"
   ]
  },
  {
   "cell_type": "markdown",
   "metadata": {},
   "source": [
    "## MULT Command"
   ]
  },
  {
   "cell_type": "markdown",
   "metadata": {},
   "source": [
    "### Usage: MULT  $M_1$  $M_2$  $M_3$\n",
    "The **MULT** command multiplies the matrices in $M_1$ and $M_2$ and places the result in $M_3$."
   ]
  },
  {
   "cell_type": "code",
   "execution_count": 14,
   "metadata": {
    "collapsed": false,
    "scrolled": false
   },
   "outputs": [
    {
     "name": "stdout",
     "output_type": "stream",
     "text": [
      "\n",
      "xx:\n",
      "[[   2.    4.    6.    8.   10.]\n",
      " [  20.   40.   60.   80.  100.]]\n",
      "yy:\n",
      "[[  1.  10.]\n",
      " [  2.  20.]\n",
      " [  3.  30.]\n",
      " [  4.  40.]\n",
      " [  5.  50.]]\n",
      "zz:\n",
      "[[   110.   1100.]\n",
      " [  1100.  11000.]]\n"
     ]
    }
   ],
   "source": [
    "%%CAL86\n",
    "MULT xx yy zz\n",
    "PRINT xx\n",
    "PRINT yy\n",
    "PRINT zz"
   ]
  },
  {
   "cell_type": "markdown",
   "metadata": {},
   "source": [
    "## TMULT Command"
   ]
  },
  {
   "cell_type": "markdown",
   "metadata": {},
   "source": [
    "### Usage: TMULT  $M_1$  $M_2$  $M_3$\n",
    "The **TMULT** command multiplies the the transpose of the  matrix in $M_1$ and the matrix in $M_2$ and places the result in $M_3$."
   ]
  },
  {
   "cell_type": "code",
   "execution_count": 15,
   "metadata": {
    "collapsed": false
   },
   "outputs": [
    {
     "name": "stdout",
     "output_type": "stream",
     "text": [
      "\n",
      "a:\n",
      "[[ 1.  2.  3.]\n",
      " [ 1.  2.  3.]]\n",
      "b:\n",
      "[[ 10.  20.  30.]\n",
      " [ 10.  20.  30.]]\n",
      "qq:\n",
      "[[  20.   40.   60.]\n",
      " [  40.   80.  120.]\n",
      " [  60.  120.  180.]]\n"
     ]
    }
   ],
   "source": [
    "%%CAL86\n",
    "LOAD a R=2 C=3\n",
    "1 2 3\n",
    "1 2 3\n",
    "LOAD b R=2 C=3\n",
    "10 20 30\n",
    "10 20 30\n",
    "TMULT a b qq\n",
    "PRINT a\n",
    "PRINT b\n",
    "PRINT qq"
   ]
  },
  {
   "cell_type": "markdown",
   "metadata": {},
   "source": [
    "## TTMULT Command"
   ]
  },
  {
   "cell_type": "markdown",
   "metadata": {},
   "source": [
    "### Usage: TTMULT  $M_1$  $M_2$  $M_3$\n",
    "The **TTMULT** command forms the product $M_1^T \\times M_2 \\times M_1$ and places the result in $M_3$."
   ]
  },
  {
   "cell_type": "code",
   "execution_count": 16,
   "metadata": {
    "collapsed": false
   },
   "outputs": [
    {
     "name": "stdout",
     "output_type": "stream",
     "text": [
      "\n",
      "A:\n",
      "[[ 1.  2.]\n",
      " [ 3.  4.]]\n",
      "B:\n",
      "[[ 10.  20.]\n",
      " [ 30.  40.]]\n",
      "C:\n",
      "[[  520.   760.]\n",
      " [  740.  1080.]]\n",
      "D:\n",
      "[[  520.   760.]\n",
      " [  740.  1080.]]\n"
     ]
    }
   ],
   "source": [
    "%%CAL86\n",
    "LOAD A R=2 C=2\n",
    "1 2\n",
    "3 4\n",
    "PRINT A\n",
    "LOAD B R=2 C=2\n",
    "10 20\n",
    "30 40\n",
    "PRINT B\n",
    "TTMULT A B C\n",
    "PRINT C\n",
    "C The TMULT command replaces these steps:\n",
    "TRAN A AT\n",
    "MULT AT B x\n",
    "MULT x A D\n",
    "PRINT D"
   ]
  },
  {
   "cell_type": "markdown",
   "metadata": {},
   "source": [
    "## ZERO Command"
   ]
  },
  {
   "cell_type": "markdown",
   "metadata": {},
   "source": [
    "### Usage: ZERO  $M_1$  R=$nr$  C=$nc$  [T=$t$]  [D=$d$]\n",
    "The **ZERO** command creates a matrix of size $nr\\times nc$.  If $t$ is specified, all elements\n",
    "will be set to this value (the default value of $t$ is 0 (zero)).  If $d$ is specified and the\n",
    "matrix is square ($nr=nc$), the diagonal values will be set to this (the default value of $d$\n",
    "is $t$)."
   ]
  },
  {
   "cell_type": "code",
   "execution_count": 17,
   "metadata": {
    "collapsed": false
   },
   "outputs": [
    {
     "name": "stdout",
     "output_type": "stream",
     "text": [
      "\n",
      "QQ:\n",
      "[[ 7.  3.  3.  3.  3.]\n",
      " [ 3.  7.  3.  3.  3.]\n",
      " [ 3.  3.  7.  3.  3.]\n",
      " [ 3.  3.  3.  7.  3.]\n",
      " [ 3.  3.  3.  3.  7.]]\n",
      "QR:\n",
      "[[ 0.  0.  0.  0.]\n",
      " [ 0.  0.  0.  0.]\n",
      " [ 0.  0.  0.  0.]]\n"
     ]
    }
   ],
   "source": [
    "%%CAL86\n",
    "ZERO QQ R=5 C=5  T=3  D=7\n",
    "PRINT QQ\n",
    "ZERO QR R=3 C=4\n",
    "PRINT QR"
   ]
  },
  {
   "cell_type": "markdown",
   "metadata": {},
   "source": [
    "# Structures Commands"
   ]
  },
  {
   "cell_type": "markdown",
   "metadata": {},
   "source": [
    "## FRAME Command"
   ]
  },
  {
   "cell_type": "markdown",
   "metadata": {
    "collapsed": true
   },
   "source": [
    "### Usage: FRAME  $GK$ $FD$  I=$I_x$  A=$A$  E=$E$  X=$x_j,x_k$  Y=$y_j,y_k$\n",
    "The **FRAME** command forms the 6x6 global element stiffness matrix, $GK$, and a 4x6 force-displacement\n",
    "matrix $FD$ for a general two-dimensional bending member with axial deformations included in\n",
    "the formulation.  The properties of the member are given as:\n",
    "  > $I_x$ = the moment of inertia of the member, and\n",
    "  \n",
    "  > $A$ = the cross-sectional area of the member, and\n",
    "  \n",
    "  > $E$ = the Modulus of Elasticity of the member.\n",
    "  \n",
    "The coordinates of the \"$j$\" and \"$k$\" ends of the member are defined by $x_j,x_k$ and\n",
    "$y_j,y_k$ respectively.  Note that the user is responsible for the definition of the $j$ and\n",
    "$k$ ends of the member.\n",
    "\n",
    "This command computes the local element stiff matrix, $[LK]$, and the geometric transformation matrix $[T]$.  \n",
    "It forms $[GK] = [T]^T \\times [LK] \\times[T]$ and $[FD] = [LK] \\times [T]$.  The $[T]$ matrix is not stored.\n",
    "\n",
    "![signs](img/2d-signs-v2.svg)"
   ]
  },
  {
   "cell_type": "code",
   "execution_count": 18,
   "metadata": {
    "collapsed": false,
    "scrolled": true
   },
   "outputs": [
    {
     "name": "stdout",
     "output_type": "stream",
     "text": [
      "\n",
      "K4:\n",
      "[[    461.43956   -1111.09788   -6830.51975    -461.43956    1111.09788   -6830.51975]\n",
      " [  -1111.09788    3424.36723   -2276.83992    1111.09788   -3424.36723   -2276.83992]\n",
      " [  -6830.51975   -2276.83992  758946.63844    6830.51975    2276.83992  379473.31922]\n",
      " [   -461.43956    1111.09788    6830.51975     461.43956   -1111.09788    6830.51975]\n",
      " [   1111.09788   -3424.36723    2276.83992   -1111.09788    3424.36723    2276.83992]\n",
      " [  -6830.51975   -2276.83992  379473.31922    6830.51975    2276.83992  758946.63844]]\n",
      "T4:\n",
      "[[  -6830.51975   -2276.83992  758946.63844    6830.51975    2276.83992  379473.31922]\n",
      " [  -6830.51975   -2276.83992  379473.31922    6830.51975    2276.83992  758946.63844]\n",
      " [   1200.        -3600.            0.        -1200.         3600.            0.     ]\n",
      " [    -86.4         -28.8        7200.           86.4          28.8        7200.     ]]\n"
     ]
    }
   ],
   "source": [
    "%%CAL86\n",
    "FRAME K4 T4 I=1000 A=20 E=30000   X=400,350 Y=0,150\n",
    "PRINT K4\n",
    "PRINT T4"
   ]
  },
  {
   "cell_type": "markdown",
   "metadata": {},
   "source": [
    "## TRUSS Command"
   ]
  },
  {
   "cell_type": "markdown",
   "metadata": {
    "collapsed": true
   },
   "source": [
    "### Usage: TRUSS  $GK$ $FD$  A=$A$  E=$E$  X=$x_j,x_k$  Y=$y_j,y_k$\n",
    "The **TRUSS** command forms the 4x4 element stiffness matrix, $GK$, and a 4x4 force-displacement\n",
    "matrix $FD$ for a general two-dimensional truss member with only axial deformations included in\n",
    "the formulation.  The properties of the member are given as\n",
    "\n",
    "  > $A$ = the cross-sectional area of the member, and\n",
    "  \n",
    "  > $E$ = the Modulus of Elasticity of the member.\n",
    "  \n",
    "The coordinates of the \"$j$\" and \"$k$\" ends of the member are defined by $x_j,x_k$ and\n",
    "$y_j,y_k$ respectively.  Note that the user is responsible for the definition of the $j$ and\n",
    "$k$ ends of the member.\n",
    "\n",
    "This command computes the local element stiff matrix, $[LK]$, and the geometric transformation matrix $[T]$.  \n",
    "It forms $[GK] = [T]^T \\times [LK] \\times[T]$ and $[FD] = [LK] \\times [T]$.  The $[T]$ matrix is not stored.\n",
    "\n",
    "![signs](img/2dtruss-signs-v2.svg)"
   ]
  },
  {
   "cell_type": "code",
   "execution_count": 19,
   "metadata": {
    "collapsed": false
   },
   "outputs": [
    {
     "name": "stdout",
     "output_type": "stream",
     "text": [
      "\n",
      "K5:\n",
      "[[ 25600.  19200. -25600. -19200.]\n",
      " [ 19200.  14400. -19200. -14400.]\n",
      " [-25600. -19200.  25600.  19200.]\n",
      " [-19200. -14400.  19200.  14400.]]\n",
      "T5:\n",
      "[[ 32000.  24000. -32000. -24000.]\n",
      " [     0.      0.      0.      0.]\n",
      " [-32000. -24000.  32000.  24000.]\n",
      " [     0.      0.      0.      0.]]\n"
     ]
    }
   ],
   "source": [
    "%%CAL86\n",
    "TRUSS K5 T5 A=1000 E=200000 X=1000,5000 Y=2000,5000\n",
    "PRINT K5\n",
    "PRINT T5"
   ]
  },
  {
   "cell_type": "markdown",
   "metadata": {},
   "source": [
    "## ADDK Command"
   ]
  },
  {
   "cell_type": "markdown",
   "metadata": {
    "collapsed": true
   },
   "source": [
    "### Usage: ADDK  $K$  $GK$  $ID$  N=$n$\n",
    "The global element stiffness matrix $GK$ is added to the total stiffness matrix $K$.  The row and column numbers where the terms are to be added are obtained from column $n$ of the $L\\times m$ integer matrix $ID$ (where $m$ is the total number of members and $L$ is the size of $EK$ - either 4x4 or 6x6).\n",
    "\n",
    "The $ID$ matrix gives the correspondence between the global DOF#s and the local DOF#s for each member.  There\n",
    "is one column for each member, column $k$ corresponds to member $k$.  The numbers from top to bottom are the\n",
    "global DOF#s in the same order as the local DOF#s. EG: the top number is the global DOF# corresponding to local\n",
    "DOF #0 of the member, the next down corresponds to local DOF #1, etc.\n",
    "\n",
    "![signs](img/2d-signs-v2-eg.svg)\n",
    "\n",
    "When determing the mapping between local numbers, it is useful to think of the element in its \"normal\" unrotated\n",
    "position, with its \"j\" end at the start node.\n",
    "For example, consider the 2D frame element, above.  If it is defined as going from node *a* to *b*, then both axes projections\n",
    "will be positive, as will $\\cos\\theta_x$ and $\\cos\\theta_y$.  In this case, the \"j\" end will be\n",
    "at node *a* and the local numbers 0, 1 and 2 at the \"j\" end\n",
    "will map to the global numbers 6, 4 and 2 at node a; the full column for this member will contain 6,4,2,12,8,10.\n",
    "\n",
    "If the element is considered as going from node *b* to *a*, then both projections and cosines will be\n",
    "negative.  End \"j\" of the unrotated element will correspond to node *b* and the local numbers 0, 1 and 2 there\n",
    "will correspond to global numbers 12,8, and 10.  The full column of $ID$ will be 12,8,10,6,4,2."
   ]
  },
  {
   "cell_type": "code",
   "execution_count": 20,
   "metadata": {
    "collapsed": false
   },
   "outputs": [
    {
     "name": "stdout",
     "output_type": "stream",
     "text": [
      "\n",
      "K1:\n",
      "[[ 100.  101.  102.  103.  104.  105.]\n",
      " [ 110.  111.  112.  113.  114.  115.]\n",
      " [ 120.  121.  122.  123.  124.  125.]\n",
      " [ 130.  131.  132.  133.  134.  135.]\n",
      " [ 140.  141.  142.  143.  144.  145.]\n",
      " [ 150.  151.  152.  153.  154.  155.]]\n",
      "IN:\n",
      "[[0 1 2 3]\n",
      " [1 2 3 4]\n",
      " [2 3 4 5]\n",
      " [3 7 5 6]\n",
      " [4 8 6 7]\n",
      " [5 9 7 8]]\n",
      "K:\n",
      "[[   0.    0.    0.    0.    0.    0.    0.    0.    0.    0.]\n",
      " [   0.  100.  101.  102.    0.    0.    0.  103.  104.  105.]\n",
      " [   0.  110.  111.  112.    0.    0.    0.  113.  114.  115.]\n",
      " [   0.  120.  121.  122.    0.    0.    0.  123.  124.  125.]\n",
      " [   0.    0.    0.    0.    0.    0.    0.    0.    0.    0.]\n",
      " [   0.    0.    0.    0.    0.    0.    0.    0.    0.    0.]\n",
      " [   0.    0.    0.    0.    0.    0.    0.    0.    0.    0.]\n",
      " [   0.  130.  131.  132.    0.    0.    0.  133.  134.  135.]\n",
      " [   0.  140.  141.  142.    0.    0.    0.  143.  144.  145.]\n",
      " [   0.  150.  151.  152.    0.    0.    0.  153.  154.  155.]]\n",
      "K:\n",
      "[[   0.    0.    0.    0.    0.    0.    0.    0.    0.    0.]\n",
      " [   0.  200.  202.  204.    0.    0.    0.  206.  208.  210.]\n",
      " [   0.  220.  222.  224.    0.    0.    0.  226.  228.  230.]\n",
      " [   0.  240.  242.  244.    0.    0.    0.  246.  248.  250.]\n",
      " [   0.    0.    0.    0.    0.    0.    0.    0.    0.    0.]\n",
      " [   0.    0.    0.    0.    0.    0.    0.    0.    0.    0.]\n",
      " [   0.    0.    0.    0.    0.    0.    0.    0.    0.    0.]\n",
      " [   0.  260.  262.  264.    0.    0.    0.  266.  268.  270.]\n",
      " [   0.  280.  282.  284.    0.    0.    0.  286.  288.  290.]\n",
      " [   0.  300.  302.  304.    0.    0.    0.  306.  308.  310.]]\n"
     ]
    }
   ],
   "source": [
    "%%CAL86\n",
    "LOAD K1 R=6 C=6\n",
    "100 101 102 103 104 105\n",
    "110 111 112 113 114 115\n",
    "120 121 122 123 124 125\n",
    "130 131 132 133 134 135\n",
    "140 141 142 143 144 145\n",
    "150 151 152 153 154 155\n",
    "LOADI IN R=6 C=4\n",
    "0 1 2 3\n",
    "1 2 3 4\n",
    "2 3 4 5\n",
    "3 7 5 6\n",
    "4 8 6 7\n",
    "5 9 7 8\n",
    "PRINT K1\n",
    "PRINT IN\n",
    "ZERO K R=10 C=10\n",
    "ADDK K K1 IN N=1\n",
    "PRINT K\n",
    "\n",
    "ADDK K K1 IN N=1\n",
    "PRINT K"
   ]
  },
  {
   "cell_type": "markdown",
   "metadata": {},
   "source": [
    "## PSOLVE Command"
   ]
  },
  {
   "cell_type": "markdown",
   "metadata": {},
   "source": [
    "### Usage: PSOLVE  $A$  $D$  $P$  PS=$p$\n",
    "The command **PSOLVE** solves the linear set of equations $A D = P$ and places the result back into matrices $D$ and $P$.\n",
    "If PS=$p$ is given, then $p$ is the unconstrained partition size (the number of unconstrained degrees\n",
    "of freedom), and the partion $A_{uu} D_u + A_{uc} D_c = P_u$ is solved for $D_u$ with given $D_c$ (support\n",
    "displacements - normally 0).\n",
    "For a partioned solution, $P_c$ (the support reactions) are determined from: $P_c = A_{cu} D_u + A_{cc} D_c$."
   ]
  },
  {
   "cell_type": "markdown",
   "metadata": {},
   "source": [
    "First, just create some artificial K, D and P matrices such that K D = P."
   ]
  },
  {
   "cell_type": "code",
   "execution_count": 21,
   "metadata": {
    "collapsed": false
   },
   "outputs": [
    {
     "name": "stdout",
     "output_type": "stream",
     "text": [
      "\n",
      "D:\n",
      "[[ 10.]\n",
      " [ 20.]\n",
      " [ 30.]\n",
      " [ 20.]\n",
      " [ 10.]]\n",
      "P:\n",
      "[[ 190.]\n",
      " [ 250.]\n",
      " [ 300.]\n",
      " [ 280.]\n",
      " [ 140.]]\n"
     ]
    }
   ],
   "source": [
    "%%CAL86\n",
    "LOAD K R=5 C=5\n",
    "5 3 2 1 0\n",
    "3 4 3 2 1\n",
    "2 3 5 3 1\n",
    "1 2 3 6 2\n",
    "0 1 1 2 5\n",
    "\n",
    "LOAD D R=5 C=1\n",
    "10\n",
    "20\n",
    "30\n",
    "20\n",
    "10\n",
    "\n",
    "MULT K D P\n",
    "PRINT D\n",
    "PRINT P"
   ]
  },
  {
   "cell_type": "markdown",
   "metadata": {},
   "source": [
    "The partition size will be 3 (of 5 total).  Set the forces at the contrained DOFS to zero and the displacements\n",
    "and the unconstrained DOFS to zero.  These will then be determined by PSOLVE."
   ]
  },
  {
   "cell_type": "code",
   "execution_count": 22,
   "metadata": {
    "collapsed": true
   },
   "outputs": [],
   "source": [
    "P[3:,:] = 0     # set forces at constrained DOF to 0.  So we can see what happens when computed later.\n",
    "D[:3,:] = 0     # set displacements at unconstrained DOF to 0.  So we can see what happens when computed later."
   ]
  },
  {
   "cell_type": "markdown",
   "metadata": {},
   "source": [
    "Solve and print the total D and P matrices."
   ]
  },
  {
   "cell_type": "code",
   "execution_count": 23,
   "metadata": {
    "collapsed": false
   },
   "outputs": [
    {
     "name": "stdout",
     "output_type": "stream",
     "text": [
      "\n",
      "D:\n",
      "[[  0.]\n",
      " [  0.]\n",
      " [  0.]\n",
      " [ 20.]\n",
      " [ 10.]]\n",
      "P:\n",
      "[[ 190.]\n",
      " [ 250.]\n",
      " [ 300.]\n",
      " [   0.]\n",
      " [   0.]]\n",
      "D:\n",
      "[[ 10.]\n",
      " [ 20.]\n",
      " [ 30.]\n",
      " [ 20.]\n",
      " [ 10.]]\n",
      "P:\n",
      "[[ 190.]\n",
      " [ 250.]\n",
      " [ 300.]\n",
      " [ 280.]\n",
      " [ 140.]]\n"
     ]
    }
   ],
   "source": [
    "%%CAL86\n",
    "PRINT D\n",
    "PRINT P\n",
    "\n",
    "PSOLVE K D P PS=3\n",
    "PRINT D\n",
    "PRINT P"
   ]
  },
  {
   "cell_type": "markdown",
   "metadata": {},
   "source": [
    "Try a full (unpartitioned) solve and see that *x* is the full set of displacements and *P* is unmodified."
   ]
  },
  {
   "cell_type": "code",
   "execution_count": 24,
   "metadata": {
    "collapsed": false
   },
   "outputs": [
    {
     "name": "stdout",
     "output_type": "stream",
     "text": [
      "\n",
      "x:\n",
      "[[ 10.]\n",
      " [ 20.]\n",
      " [ 30.]\n",
      " [ 20.]\n",
      " [ 10.]]\n",
      "P:\n",
      "[[ 190.]\n",
      " [ 250.]\n",
      " [ 300.]\n",
      " [ 280.]\n",
      " [ 140.]]\n"
     ]
    }
   ],
   "source": [
    "%%CAL86\n",
    "PSOLVE K x P\n",
    "PRINT x\n",
    "PRINT P"
   ]
  },
  {
   "cell_type": "markdown",
   "metadata": {},
   "source": [
    "## SOLVE Command"
   ]
  },
  {
   "cell_type": "markdown",
   "metadata": {},
   "source": [
    "### Usage: SOLVE  $A$  $B$  S=$p$\n",
    "The command **SOLVE** solves the linear set of equations $A x = B$ for $x$ and places the result $x$ in matrix $B$.\n",
    "If S=$p$ is given, then $p$ may only have the value 0.\n",
    "\n",
    "This command is only for compatibilty with traditional CAL.  It will rarely be used."
   ]
  },
  {
   "cell_type": "markdown",
   "metadata": {},
   "source": [
    "## MEMFRC Command"
   ]
  },
  {
   "cell_type": "markdown",
   "metadata": {},
   "source": [
    "### Usage: MEMFRC  $FD$  $U$  $ID$  $P$  N=$n$\n",
    "The member forces are evaluated by multiplying the force-displacement matrix $FD$ by the node displacements in $U$ and\n",
    "storing the results in matrix $P$.  The force displacement matrix $FD$ is that computed by the [FRAME](#FRAME-Command)\n",
    "and [TRUSS](#TRUSS-Command) commands.\n",
    "\n",
    "The node displacements that are used are obtained using the global DOF#s in\n",
    "column $n$ of integer array $ID$.  If $FD$ is the 6x6 global element stiffness matrix returned as $GK$ as the first\n",
    "matrix of the FRAME command, the forces are given according to the global coordinate system.\n",
    "If $FD$ is the 4x6 force-displacement transformation matrix returned as $FD$ as the second matrix of the FRAME command, \n",
    "the forces will be given in a simplified, 4-element local coordinate system."
   ]
  },
  {
   "cell_type": "code",
   "execution_count": 25,
   "metadata": {
    "collapsed": false
   },
   "outputs": [
    {
     "name": "stdout",
     "output_type": "stream",
     "text": [
      "\n",
      "K1:\n",
      "[[     360.        0.    18000.     -360.        0.    18000.]\n",
      " [       0.     6000.        0.        0.    -6000.        0.]\n",
      " [   18000.        0.  1200000.   -18000.        0.   600000.]\n",
      " [    -360.        0.   -18000.      360.        0.   -18000.]\n",
      " [       0.    -6000.        0.        0.     6000.        0.]\n",
      " [   18000.        0.   600000.   -18000.        0.  1200000.]]\n",
      "T1:\n",
      "[[   18000.        0.  1200000.   -18000.        0.   600000.]\n",
      " [   18000.        0.   600000.   -18000.        0.  1200000.]\n",
      " [       0.     6000.        0.        0.    -6000.        0.]\n",
      " [     360.        0.    18000.     -360.        0.    18000.]]\n",
      "IN:\n",
      "[[0 3 0]\n",
      " [1 4 1]\n",
      " [2 5 2]\n",
      " [3 6 6]\n",
      " [4 7 7]\n",
      " [5 8 8]]\n",
      "D:\n",
      "[[  1.]\n",
      " [  2.]\n",
      " [  3.]\n",
      " [  4.]\n",
      " [  5.]\n",
      " [  6.]\n",
      " [  7.]\n",
      " [  8.]\n",
      " [  9.]\n",
      " [ 10.]]\n",
      "P1:\n",
      "[[  160920.]\n",
      " [  -18000.]\n",
      " [ 7146000.]\n",
      " [ -160920.]\n",
      " [   18000.]\n",
      " [ 8946000.]]\n",
      "P2:\n",
      "[[  8892000.]\n",
      " [ 12492000.]\n",
      " [   -36000.]\n",
      " [   213840.]]\n"
     ]
    }
   ],
   "source": [
    "%%CAL86\n",
    "FRAME K1 T1 I=1000 A=20 E=30000 X=0,0 Y=100,0\n",
    "\n",
    "LOADI IN R=6 C=3\n",
    "0 3 0\n",
    "1 4 1\n",
    "2 5 2\n",
    "3 6 6\n",
    "4 7 7\n",
    "5 8 8\n",
    "\n",
    "LOAD D R=10 C=1\n",
    "1\n",
    "2\n",
    "3\n",
    "4\n",
    "5\n",
    "6\n",
    "7\n",
    "8\n",
    "9\n",
    "10\n",
    "\n",
    "PRINT K1\n",
    "PRINT T1\n",
    "PRINT IN\n",
    "PRINT D\n",
    "\n",
    "MEMFRC K1 D IN P1 N=0\n",
    "PRINT P1\n",
    "\n",
    "MEMFRC T1 D IN P2 N=2\n",
    "PRINT P2"
   ]
  },
  {
   "cell_type": "markdown",
   "metadata": {
    "collapsed": false
   },
   "source": [
    "D[[0,1,2,3,4,5],:]"
   ]
  },
  {
   "cell_type": "code",
   "execution_count": 26,
   "metadata": {
    "collapsed": false
   },
   "outputs": [
    {
     "data": {
      "text/plain": [
       "matrix([[  160920.],\n",
       "        [  -18000.],\n",
       "        [ 7146000.],\n",
       "        [ -160920.],\n",
       "        [   18000.],\n",
       "        [ 8946000.]])"
      ]
     },
     "execution_count": 26,
     "metadata": {},
     "output_type": "execute_result"
    }
   ],
   "source": [
    "K1*D[[0,1,2,3,4,5],:]"
   ]
  },
  {
   "cell_type": "code",
   "execution_count": 27,
   "metadata": {
    "collapsed": false
   },
   "outputs": [
    {
     "data": {
      "text/plain": [
       "matrix([[ 1.],\n",
       "        [ 2.],\n",
       "        [ 3.],\n",
       "        [ 7.],\n",
       "        [ 8.],\n",
       "        [ 9.]])"
      ]
     },
     "execution_count": 27,
     "metadata": {},
     "output_type": "execute_result"
    }
   ],
   "source": [
    "D[[0,1,2,6,7,8],:]"
   ]
  },
  {
   "cell_type": "code",
   "execution_count": 28,
   "metadata": {
    "collapsed": false
   },
   "outputs": [
    {
     "data": {
      "text/plain": [
       "matrix([[  8892000.],\n",
       "        [ 12492000.],\n",
       "        [   -36000.],\n",
       "        [   213840.]])"
      ]
     },
     "execution_count": 28,
     "metadata": {},
     "output_type": "execute_result"
    }
   ],
   "source": [
    "T1*D[[0,1,2,6,7,8],:]"
   ]
  },
  {
   "cell_type": "markdown",
   "metadata": {
    "collapsed": true
   },
   "source": [
    "# The above MEMFRC stuff has to be checked.  It has changed from the CAL way!!!"
   ]
  },
  {
   "cell_type": "code",
   "execution_count": null,
   "metadata": {
    "collapsed": true
   },
   "outputs": [],
   "source": []
  }
 ],
 "metadata": {
  "kernelspec": {
   "display_name": "Python 2",
   "language": "python",
   "name": "python2"
  },
  "language_info": {
   "codemirror_mode": {
    "name": "ipython",
    "version": 2
   },
   "file_extension": ".py",
   "mimetype": "text/x-python",
   "name": "python",
   "nbconvert_exporter": "python",
   "pygments_lexer": "ipython2",
   "version": "2.7.6"
  }
 },
 "nbformat": 4,
 "nbformat_minor": 0
}
