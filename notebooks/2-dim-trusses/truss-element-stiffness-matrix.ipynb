{
 "cells": [
  {
   "cell_type": "markdown",
   "metadata": {},
   "source": [
    "### Truss Element Stiffness Matrix\n",
    "This notebook forms the general product $\\left[EK\\right] = \\left[T^T\\right] \\times \\left[LK\\right] \\times \\left[T\\right]$ to form the element stiffness\n",
    "matrix without explicit matrix multiplication."
   ]
  },
  {
   "cell_type": "code",
   "execution_count": 1,
   "metadata": {
    "collapsed": true
   },
   "outputs": [],
   "source": [
    "import sympy as sy\n",
    "sy.init_printing(use_unicode=True)"
   ]
  },
  {
   "cell_type": "code",
   "execution_count": 2,
   "metadata": {
    "collapsed": false
   },
   "outputs": [
    {
     "data": {
      "image/png": "[encoded data removed]",
      "text/latex": [
       "$$\\left ( k, \\quad c_{x}, \\quad c_{y}\\right )$$"
      ],
      "text/plain": [
       "(k, cₓ, c_y)"
      ]
     },
     "execution_count": 2,
     "metadata": {},
     "output_type": "execute_result"
    }
   ],
   "source": [
    "sy.var('k c_x c_y')"
   ]
  },
  {
   "cell_type": "code",
   "execution_count": 3,
   "metadata": {
    "collapsed": false
   },
   "outputs": [
    {
     "data": {
      "text/latex": [
       "$$\\left[\\begin{matrix}k & 0 & - k & 0\\\\0 & 0 & 0 & 0\\\\- k & 0 & k & 0\\\\0 & 0 & 0 & 0\\end{matrix}\\right]$$"
      ],
      "text/plain": [
       "⎡k   0  -k  0⎤\n",
       "⎢            ⎥\n",
       "⎢0   0  0   0⎥\n",
       "⎢            ⎥\n",
       "⎢-k  0  k   0⎥\n",
       "⎢            ⎥\n",
       "⎣0   0  0   0⎦"
      ]
     },
     "execution_count": 3,
     "metadata": {},
     "output_type": "execute_result"
    }
   ],
   "source": [
    "LK = sy.Matrix([[k,0,-k,0],[0,0,0,0],[-k,0,k,0],[0,0,0,0]])\n",
    "LK"
   ]
  },
  {
   "cell_type": "code",
   "execution_count": 4,
   "metadata": {
    "collapsed": false
   },
   "outputs": [
    {
     "data": {
      "text/latex": [
       "$$\\left[\\begin{matrix}c_{x} & c_{y} & 0 & 0\\\\- c_{y} & c_{x} & 0 & 0\\\\0 & 0 & c_{x} & c_{y}\\\\0 & 0 & - c_{y} & c_{x}\\end{matrix}\\right]$$"
      ],
      "text/plain": [
       "⎡ cₓ   c_y   0     0 ⎤\n",
       "⎢                    ⎥\n",
       "⎢-c_y  cₓ    0     0 ⎥\n",
       "⎢                    ⎥\n",
       "⎢ 0     0    cₓ   c_y⎥\n",
       "⎢                    ⎥\n",
       "⎣ 0     0   -c_y  cₓ ⎦"
      ]
     },
     "execution_count": 4,
     "metadata": {},
     "output_type": "execute_result"
    }
   ],
   "source": [
    "T = sy.Matrix([[c_x,c_y,0,0],[-c_y,c_x,0,0],[0,0,c_x,c_y],[0,0,-c_y,c_x]])\n",
    "T"
   ]
  },
  {
   "cell_type": "code",
   "execution_count": 5,
   "metadata": {
    "collapsed": false
   },
   "outputs": [
    {
     "data": {
      "text/latex": [
       "$$\\left[\\begin{matrix}c_{x} & - c_{y} & 0 & 0\\\\c_{y} & c_{x} & 0 & 0\\\\0 & 0 & c_{x} & - c_{y}\\\\0 & 0 & c_{y} & c_{x}\\end{matrix}\\right]$$"
      ],
      "text/plain": [
       "⎡cₓ   -c_y   0    0  ⎤\n",
       "⎢                    ⎥\n",
       "⎢c_y   cₓ    0    0  ⎥\n",
       "⎢                    ⎥\n",
       "⎢ 0    0    cₓ   -c_y⎥\n",
       "⎢                    ⎥\n",
       "⎣ 0    0    c_y   cₓ ⎦"
      ]
     },
     "execution_count": 5,
     "metadata": {},
     "output_type": "execute_result"
    }
   ],
   "source": [
    "T.T"
   ]
  },
  {
   "cell_type": "code",
   "execution_count": 6,
   "metadata": {
    "collapsed": false
   },
   "outputs": [
    {
     "data": {
      "text/latex": [
       "$$\\left[\\begin{matrix}c_{x}^{2} k & c_{x} c_{y} k & - c_{x}^{2} k & - c_{x} c_{y} k\\\\c_{x} c_{y} k & c_{y}^{2} k & - c_{x} c_{y} k & - c_{y}^{2} k\\\\- c_{x}^{2} k & - c_{x} c_{y} k & c_{x}^{2} k & c_{x} c_{y} k\\\\- c_{x} c_{y} k & - c_{y}^{2} k & c_{x} c_{y} k & c_{y}^{2} k\\end{matrix}\\right]$$"
      ],
      "text/plain": [
       "⎡    2                     2               ⎤\n",
       "⎢  cₓ ⋅k    cₓ⋅c_y⋅k    -cₓ ⋅k    -cₓ⋅c_y⋅k⎥\n",
       "⎢                                          ⎥\n",
       "⎢               2                      2   ⎥\n",
       "⎢cₓ⋅c_y⋅k    c_y ⋅k    -cₓ⋅c_y⋅k   -c_y ⋅k ⎥\n",
       "⎢                                          ⎥\n",
       "⎢    2                     2               ⎥\n",
       "⎢ -cₓ ⋅k    -cₓ⋅c_y⋅k    cₓ ⋅k    cₓ⋅c_y⋅k ⎥\n",
       "⎢                                          ⎥\n",
       "⎢                2                    2    ⎥\n",
       "⎣-cₓ⋅c_y⋅k   -c_y ⋅k   cₓ⋅c_y⋅k    c_y ⋅k  ⎦"
      ]
     },
     "execution_count": 6,
     "metadata": {},
     "output_type": "execute_result"
    }
   ],
   "source": [
    "EK = T.T * LK * T\n",
    "EK"
   ]
  },
  {
   "cell_type": "code",
   "execution_count": 7,
   "metadata": {
    "collapsed": false
   },
   "outputs": [
    {
     "data": {
      "text/latex": [
       "$$\\left[\\begin{matrix}c_{x} k & c_{y} k & - c_{x} k & - c_{y} k\\\\0 & 0 & 0 & 0\\\\- c_{x} k & - c_{y} k & c_{x} k & c_{y} k\\\\0 & 0 & 0 & 0\\end{matrix}\\right]$$"
      ],
      "text/plain": [
       "⎡cₓ⋅k   c_y⋅k   -cₓ⋅k  -c_y⋅k⎤\n",
       "⎢                            ⎥\n",
       "⎢  0      0       0      0   ⎥\n",
       "⎢                            ⎥\n",
       "⎢-cₓ⋅k  -c_y⋅k  cₓ⋅k   c_y⋅k ⎥\n",
       "⎢                            ⎥\n",
       "⎣  0      0       0      0   ⎦"
      ]
     },
     "execution_count": 7,
     "metadata": {},
     "output_type": "execute_result"
    }
   ],
   "source": [
    "LK * T"
   ]
  },
  {
   "cell_type": "code",
   "execution_count": null,
   "metadata": {
    "collapsed": true
   },
   "outputs": [],
   "source": []
  }
 ],
 "metadata": {
  "kernelspec": {
   "display_name": "Python 2",
   "language": "python",
   "name": "python2"
  },
  "language_info": {
   "codemirror_mode": {
    "name": "ipython",
    "version": 2
   },
   "file_extension": ".py",
   "mimetype": "text/x-python",
   "name": "python",
   "nbconvert_exporter": "python",
   "pygments_lexer": "ipython2",
   "version": "2.7.6"
  }
 },
 "nbformat": 4,
 "nbformat_minor": 1
}
