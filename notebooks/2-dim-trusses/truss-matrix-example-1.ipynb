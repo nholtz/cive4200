{
 "cells": [
  {
   "cell_type": "markdown",
   "metadata": {},
   "source": [
    "### Truss of matrix-example-1\n",
    "See `CIVE4200` `Notes/2-dim-pinned/matrix-example-1.`"
   ]
  },
  {
   "cell_type": "code",
   "execution_count": 1,
   "metadata": {
    "collapsed": false
   },
   "outputs": [],
   "source": [
    "import PyCAL86"
   ]
  },
  {
   "cell_type": "markdown",
   "metadata": {},
   "source": [
    "#### Member 0 done using matrix calculations"
   ]
  },
  {
   "cell_type": "code",
   "execution_count": 2,
   "metadata": {
    "collapsed": false
   },
   "outputs": [
    {
     "data": {
      "text/plain": [
       "(0.6, 0.8, 20000.0)"
      ]
     },
     "execution_count": 2,
     "metadata": {},
     "output_type": "execute_result"
    }
   ],
   "source": [
    "# member 0\n",
    "E = 200000.\n",
    "A = 500.\n",
    "dx = 3000.     # projection on x-axis\n",
    "dy = 4000.     # projection on y-axis\n",
    "L = (dx*dx + dy*dy)**0.5\n",
    "cx = dx/L      # cos theta_x\n",
    "cy = dy/L      # cos theta_y\n",
    "k = E*A/L      # axial stiffness\n",
    "cx, cy, k"
   ]
  },
  {
   "cell_type": "code",
   "execution_count": 3,
   "metadata": {
    "collapsed": false
   },
   "outputs": [
    {
     "name": "stdout",
     "output_type": "stream",
     "text": [
      "\n",
      "LK0:\n",
      "[[ 20000.      0. -20000.      0.]\n",
      " [     0.      0.      0.      0.]\n",
      " [-20000.      0.  20000.      0.]\n",
      " [     0.      0.      0.      0.]]\n"
     ]
    }
   ],
   "source": [
    "%%CAL86\n",
    "LOAD LK0 R=4 C=4\n",
    "k  0 -k 0\n",
    "0  0  0 0\n",
    "-k 0  k 0\n",
    "0  0  0 0\n",
    "PRINT LK0"
   ]
  },
  {
   "cell_type": "code",
   "execution_count": 4,
   "metadata": {
    "collapsed": false
   },
   "outputs": [
    {
     "name": "stdout",
     "output_type": "stream",
     "text": [
      "\n",
      "T0:\n",
      "[[ 0.6  0.8  0.   0. ]\n",
      " [-0.8  0.6  0.   0. ]\n",
      " [ 0.   0.   0.6  0.8]\n",
      " [ 0.   0.  -0.8  0.6]]\n",
      "T0T:\n",
      "[[ 0.6 -0.8  0.   0. ]\n",
      " [ 0.8  0.6  0.   0. ]\n",
      " [ 0.   0.   0.6 -0.8]\n",
      " [ 0.   0.   0.8  0.6]]\n"
     ]
    }
   ],
   "source": [
    "%%CAL86\n",
    "LOAD T0 R=4 C=4\n",
    "cx cy 0 0\n",
    "-cy cx 0 0\n",
    "0 0 cx cy\n",
    "0 0 -cy cx\n",
    "PRINT T0\n",
    "TRAN T0 T0T\n",
    "PRINT T0T"
   ]
  },
  {
   "cell_type": "code",
   "execution_count": 5,
   "metadata": {
    "collapsed": false
   },
   "outputs": [
    {
     "name": "stdout",
     "output_type": "stream",
     "text": [
      "\n",
      "X:\n",
      "[[ 12000.      0. -12000.      0.]\n",
      " [ 16000.      0. -16000.      0.]\n",
      " [-12000.      0.  12000.      0.]\n",
      " [-16000.      0.  16000.      0.]]\n",
      "EK0:\n",
      "[[  7200.   9600.  -7200.  -9600.]\n",
      " [  9600.  12800.  -9600. -12800.]\n",
      " [ -7200.  -9600.   7200.   9600.]\n",
      " [ -9600. -12800.   9600.  12800.]]\n"
     ]
    }
   ],
   "source": [
    "%%CAL86\n",
    "MULT T0T LK0 X\n",
    "MULT X T0 EK0\n",
    "PRINT X\n",
    "PRINT EK0"
   ]
  },
  {
   "cell_type": "markdown",
   "metadata": {},
   "source": [
    "#### Now use higher level CAL commands"
   ]
  },
  {
   "cell_type": "code",
   "execution_count": 6,
   "metadata": {
    "collapsed": false
   },
   "outputs": [
    {
     "name": "stdout",
     "output_type": "stream",
     "text": [
      "\n",
      "EK0_2:\n",
      "[[  7200.   9600.  -7200.  -9600.]\n",
      " [  9600.  12800.  -9600. -12800.]\n",
      " [ -7200.  -9600.   7200.   9600.]\n",
      " [ -9600. -12800.   9600.  12800.]]\n"
     ]
    }
   ],
   "source": [
    "%%CAL86 \n",
    "TRUSS EK0_2 MF0 E=200000 A=500 X=0,3000 Y=0,4000\n",
    "PRINT EK0_2"
   ]
  },
  {
   "cell_type": "code",
   "execution_count": 7,
   "metadata": {
    "collapsed": false
   },
   "outputs": [
    {
     "name": "stdout",
     "output_type": "stream",
     "text": [
      "\n",
      "EK1:\n",
      "[[ 10240.  -7680. -10240.   7680.]\n",
      " [ -7680.   5760.   7680.  -5760.]\n",
      " [-10240.   7680.  10240.  -7680.]\n",
      " [  7680.  -5760.  -7680.   5760.]]\n"
     ]
    }
   ],
   "source": [
    "%%CAL86 \n",
    "TRUSS EK1 MF1 E=200000 A=400 X=0,4000 Y=0,-3000\n",
    "PRINT EK1"
   ]
  },
  {
   "cell_type": "code",
   "execution_count": 8,
   "metadata": {
    "collapsed": false
   },
   "outputs": [
    {
     "name": "stdout",
     "output_type": "stream",
     "text": [
      "\n",
      "EK2:\n",
      "[[     0.      0.      0.      0.]\n",
      " [     0.  30000.      0. -30000.]\n",
      " [     0.      0.      0.      0.]\n",
      " [     0. -30000.      0.  30000.]]\n"
     ]
    }
   ],
   "source": [
    "%%CAL86\n",
    "TRUSS EK2 MF2 E=200000 A=600 X=0,0 Y=0,4000\n",
    "PRINT EK2"
   ]
  },
  {
   "cell_type": "code",
   "execution_count": 9,
   "metadata": {
    "collapsed": false
   },
   "outputs": [
    {
     "name": "stdout",
     "output_type": "stream",
     "text": [
      "\n",
      "EK3:\n",
      "[[  6106.3254  -10686.06944  -6106.3254   10686.06944]\n",
      " [-10686.06944  18700.62152  10686.06944 -18700.62152]\n",
      " [ -6106.3254   10686.06944   6106.3254  -10686.06944]\n",
      " [ 10686.06944 -18700.62152 -10686.06944  18700.62152]]\n"
     ]
    }
   ],
   "source": [
    "%%CAL86\n",
    "TRUSS EK3 MF3 E=200000 A=1000 X=0,4000 Y=0,-7000\n",
    "PRINT EK3"
   ]
  },
  {
   "cell_type": "code",
   "execution_count": 10,
   "metadata": {
    "collapsed": false
   },
   "outputs": [
    {
     "name": "stdout",
     "output_type": "stream",
     "text": [
      "\n",
      "EK4:\n",
      "[[   452.54834  -3167.83838   -452.54834   3167.83838]\n",
      " [ -3167.83838  22174.86866   3167.83838 -22174.86866]\n",
      " [  -452.54834   3167.83838    452.54834  -3167.83838]\n",
      " [  3167.83838 -22174.86866  -3167.83838  22174.86866]]\n"
     ]
    }
   ],
   "source": [
    "%%CAL86\n",
    "TRUSS EK4 MF4 E=200000 A=800 X=0,-1000 Y=0,7000\n",
    "PRINT EK4"
   ]
  },
  {
   "cell_type": "code",
   "execution_count": 11,
   "metadata": {
    "collapsed": false
   },
   "outputs": [
    {
     "name": "stdout",
     "output_type": "stream",
     "text": [
      "\n",
      "EK5:\n",
      "[[ 40000.      0. -40000.      0.]\n",
      " [     0.      0.      0.      0.]\n",
      " [-40000.      0.  40000.      0.]\n",
      " [     0.      0.      0.      0.]]\n"
     ]
    }
   ],
   "source": [
    "%%CAL86\n",
    "TRUSS EK5 MF5 E=200000 A=600 X=0,3000 Y=0,0\n",
    "PRINT EK5"
   ]
  },
  {
   "cell_type": "markdown",
   "metadata": {},
   "source": [
    "#### Now solve the structure"
   ]
  },
  {
   "cell_type": "code",
   "execution_count": 12,
   "metadata": {
    "collapsed": false
   },
   "outputs": [
    {
     "name": "stdout",
     "output_type": "stream",
     "text": [
      "\n",
      "LM:\n",
      "[[6 1 0 1 6 6]\n",
      " [7 2 5 2 7 7]\n",
      " [3 3 3 0 1 0]\n",
      " [4 4 4 5 2 5]]\n"
     ]
    }
   ],
   "source": [
    "%%CAL86\n",
    "LOADI LM R=4 C=6\n",
    "6 1 0 1 6 6\n",
    "7 2 5 2 7 7\n",
    "3 3 3 0 1 0\n",
    "4 4 4 5 2 5\n",
    "PRINT LM"
   ]
  },
  {
   "cell_type": "code",
   "execution_count": 13,
   "metadata": {
    "collapsed": false
   },
   "outputs": [
    {
     "name": "stdout",
     "output_type": "stream",
     "text": [
      "\n",
      "K:\n",
      "[[     0.      0.      0.      0.      0.      0.      0.      0.]\n",
      " [     0.      0.      0.      0.      0.      0.      0.      0.]\n",
      " [     0.      0.      0.      0.      0.      0.      0.      0.]\n",
      " [     0.      0.      0.   7200.   9600.      0.  -7200.  -9600.]\n",
      " [     0.      0.      0.   9600.  12800.      0.  -9600. -12800.]\n",
      " [     0.      0.      0.      0.      0.      0.      0.      0.]\n",
      " [     0.      0.      0.  -7200.  -9600.      0.   7200.   9600.]\n",
      " [     0.      0.      0.  -9600. -12800.      0.   9600.  12800.]]\n"
     ]
    }
   ],
   "source": [
    "%%CAL86\n",
    "ZERO K R=8 C=8\n",
    "ADDK K EK0 LM N=0\n",
    "PRINT K"
   ]
  },
  {
   "cell_type": "code",
   "execution_count": 14,
   "metadata": {
    "collapsed": false
   },
   "outputs": [
    {
     "name": "stdout",
     "output_type": "stream",
     "text": [
      "\n",
      "K:\n",
      "[[     0.      0.      0.      0.      0.      0.      0.      0.]\n",
      " [     0.  10240.  -7680. -10240.   7680.      0.      0.      0.]\n",
      " [     0.  -7680.   5760.   7680.  -5760.      0.      0.      0.]\n",
      " [     0. -10240.   7680.  17440.   1920.      0.  -7200.  -9600.]\n",
      " [     0.   7680.  -5760.   1920.  18560.      0.  -9600. -12800.]\n",
      " [     0.      0.      0.      0.      0.      0.      0.      0.]\n",
      " [     0.      0.      0.  -7200.  -9600.      0.   7200.   9600.]\n",
      " [     0.      0.      0.  -9600. -12800.      0.   9600.  12800.]]\n"
     ]
    }
   ],
   "source": [
    "%%CAL86\n",
    "ADDK K EK1 LM N=1\n",
    "PRINT K"
   ]
  },
  {
   "cell_type": "code",
   "execution_count": 15,
   "metadata": {
    "collapsed": false
   },
   "outputs": [
    {
     "name": "stdout",
     "output_type": "stream",
     "text": [
      "\n",
      "K:\n",
      "[[     0.      0.      0.      0.      0.      0.      0.      0.]\n",
      " [     0.  10240.  -7680. -10240.   7680.      0.      0.      0.]\n",
      " [     0.  -7680.   5760.   7680.  -5760.      0.      0.      0.]\n",
      " [     0. -10240.   7680.  17440.   1920.      0.  -7200.  -9600.]\n",
      " [     0.   7680.  -5760.   1920.  48560. -30000.  -9600. -12800.]\n",
      " [     0.      0.      0.      0. -30000.  30000.      0.      0.]\n",
      " [     0.      0.      0.  -7200.  -9600.      0.   7200.   9600.]\n",
      " [     0.      0.      0.  -9600. -12800.      0.   9600.  12800.]]\n"
     ]
    }
   ],
   "source": [
    "%%CAL86\n",
    "ADDK K EK2 LM N=2\n",
    "PRINT K"
   ]
  },
  {
   "cell_type": "code",
   "execution_count": 16,
   "metadata": {
    "collapsed": false
   },
   "outputs": [
    {
     "name": "stdout",
     "output_type": "stream",
     "text": [
      "\n",
      "K:\n",
      "[[  6106.3254   -6106.3254   10686.06944      0.           0.      -10686.06944      0.           0.     ]\n",
      " [ -6106.3254   16346.3254  -18366.06944 -10240.        7680.       10686.06944      0.           0.     ]\n",
      " [ 10686.06944 -18366.06944  24460.62152   7680.       -5760.      -18700.62152      0.           0.     ]\n",
      " [     0.      -10240.        7680.       17440.        1920.           0.       -7200.       -9600.     ]\n",
      " [     0.        7680.       -5760.        1920.       48560.      -30000.       -9600.      -12800.     ]\n",
      " [-10686.06944  10686.06944 -18700.62152      0.      -30000.       48700.62152      0.           0.     ]\n",
      " [     0.           0.           0.       -7200.       -9600.           0.        7200.        9600.     ]\n",
      " [     0.           0.           0.       -9600.      -12800.           0.        9600.       12800.     ]]\n"
     ]
    }
   ],
   "source": [
    "%%CAL86\n",
    "ADDK K EK3 LM N=3\n",
    "PRINT K"
   ]
  },
  {
   "cell_type": "code",
   "execution_count": 17,
   "metadata": {
    "collapsed": false
   },
   "outputs": [
    {
     "name": "stdout",
     "output_type": "stream",
     "text": [
      "\n",
      "K:\n",
      "[[  6106.3254   -6106.3254   10686.06944      0.           0.      -10686.06944      0.           0.     ]\n",
      " [ -6106.3254   16798.87374 -21533.90782 -10240.        7680.       10686.06944   -452.54834   3167.83838]\n",
      " [ 10686.06944 -21533.90782  46635.49018   7680.       -5760.      -18700.62152   3167.83838 -22174.86866]\n",
      " [     0.      -10240.        7680.       17440.        1920.           0.       -7200.       -9600.     ]\n",
      " [     0.        7680.       -5760.        1920.       48560.      -30000.       -9600.      -12800.     ]\n",
      " [-10686.06944  10686.06944 -18700.62152      0.      -30000.       48700.62152      0.           0.     ]\n",
      " [     0.        -452.54834   3167.83838  -7200.       -9600.           0.        7652.54834   6432.16162]\n",
      " [     0.        3167.83838 -22174.86866  -9600.      -12800.           0.        6432.16162  34974.86866]]\n"
     ]
    }
   ],
   "source": [
    "%%CAL86\n",
    "ADDK K EK4 LM N=4\n",
    "PRINT K"
   ]
  },
  {
   "cell_type": "code",
   "execution_count": 18,
   "metadata": {
    "collapsed": false
   },
   "outputs": [
    {
     "name": "stdout",
     "output_type": "stream",
     "text": [
      "\n",
      "K:\n",
      "[[ 46106.3254   -6106.3254   10686.06944      0.           0.      -10686.06944 -40000.           0.     ]\n",
      " [ -6106.3254   16798.87374 -21533.90782 -10240.        7680.       10686.06944   -452.54834   3167.83838]\n",
      " [ 10686.06944 -21533.90782  46635.49018   7680.       -5760.      -18700.62152   3167.83838 -22174.86866]\n",
      " [     0.      -10240.        7680.       17440.        1920.           0.       -7200.       -9600.     ]\n",
      " [     0.        7680.       -5760.        1920.       48560.      -30000.       -9600.      -12800.     ]\n",
      " [-10686.06944  10686.06944 -18700.62152      0.      -30000.       48700.62152      0.           0.     ]\n",
      " [-40000.        -452.54834   3167.83838  -7200.       -9600.           0.       47652.54834   6432.16162]\n",
      " [     0.        3167.83838 -22174.86866  -9600.      -12800.           0.        6432.16162  34974.86866]]\n"
     ]
    }
   ],
   "source": [
    "%%CAL86\n",
    "ADDK K EK5 LM N=5\n",
    "PRINT K"
   ]
  },
  {
   "cell_type": "code",
   "execution_count": 19,
   "metadata": {
    "collapsed": false
   },
   "outputs": [
    {
     "name": "stdout",
     "output_type": "stream",
     "text": [
      "\n",
      "R:\n",
      "[[      0.]\n",
      " [      0.]\n",
      " [      0.]\n",
      " [ 100000.]\n",
      " [      0.]\n",
      " [      0.]\n",
      " [      0.]\n",
      " [      0.]]\n"
     ]
    }
   ],
   "source": [
    "%%CAL86\n",
    "LOAD R R=8 C=1\n",
    "0\n",
    "0\n",
    "0\n",
    "100000\n",
    "0\n",
    "0\n",
    "0\n",
    "0\n",
    "PRINT R"
   ]
  },
  {
   "cell_type": "code",
   "execution_count": 20,
   "metadata": {
    "collapsed": false
   },
   "outputs": [
    {
     "name": "stdout",
     "output_type": "stream",
     "text": [
      "\n",
      "D:\n",
      "[[  0.94515]\n",
      " [ 13.9707 ]\n",
      " [  3.9053 ]\n",
      " [ 12.46366]\n",
      " [ -2.2391 ]\n",
      " [  0.     ]\n",
      " [  0.     ]\n",
      " [  0.     ]]\n",
      "R:\n",
      "[[      0.     ]\n",
      " [      0.     ]\n",
      " [      0.     ]\n",
      " [ 100000.     ]\n",
      " [      0.     ]\n",
      " [ 133333.33333]\n",
      " [-100000.     ]\n",
      " [-133333.33333]]\n"
     ]
    }
   ],
   "source": [
    "%%CAL86\n",
    "ZERO D R=8 C=1\n",
    "PSOLVE K D R PS=5\n",
    "PRINT D\n",
    "PRINT R"
   ]
  },
  {
   "cell_type": "code",
   "execution_count": 21,
   "metadata": {
    "collapsed": false
   },
   "outputs": [
    {
     "name": "stdout",
     "output_type": "stream",
     "text": [
      "\n",
      "MF0:\n",
      "[[ 12000.  16000. -12000. -16000.]\n",
      " [     0.      0.      0.      0.]\n",
      " [-12000. -16000.  12000.  16000.]\n",
      " [     0.      0.      0.      0.]]\n",
      "EF0:\n",
      "[[-113738.37807]\n",
      " [      0.     ]\n",
      " [ 113738.37807]\n",
      " [      0.     ]]\n"
     ]
    }
   ],
   "source": [
    "%%CAL86\n",
    "MEMFRC MF0 D LM EF0 N=0\n",
    "PRINT MF0\n",
    "PRINT EF0"
   ]
  },
  {
   "cell_type": "code",
   "execution_count": 22,
   "metadata": {
    "collapsed": false
   },
   "outputs": [
    {
     "name": "stdout",
     "output_type": "stream",
     "text": [
      "\n",
      "MF1:\n",
      "[[ 12800.  -9600. -12800.   9600.]\n",
      " [     0.      0.      0.      0.]\n",
      " [-12800.   9600.  12800.  -9600.]\n",
      " [     0.      0.      0.      0.]]\n",
      "EF1:\n",
      "[[-39696.21645]\n",
      " [     0.     ]\n",
      " [ 39696.21645]\n",
      " [     0.     ]]\n"
     ]
    }
   ],
   "source": [
    "%%CAL86\n",
    "MEMFRC MF1 D LM EF1 N=1\n",
    "PRINT MF1\n",
    "PRINT EF1"
   ]
  },
  {
   "cell_type": "code",
   "execution_count": 23,
   "metadata": {
    "collapsed": false
   },
   "outputs": [
    {
     "name": "stdout",
     "output_type": "stream",
     "text": [
      "\n",
      "MF2:\n",
      "[[     0.  30000.      0. -30000.]\n",
      " [     0.      0.      0.      0.]\n",
      " [     0. -30000.      0.  30000.]\n",
      " [     0.      0.      0.      0.]]\n",
      "EF2:\n",
      "[[ 67172.97258]\n",
      " [     0.     ]\n",
      " [-67172.97258]\n",
      " [     0.     ]]\n"
     ]
    }
   ],
   "source": [
    "%%CAL86\n",
    "MEMFRC MF2 D LM EF2 N=2\n",
    "PRINT MF2\n",
    "PRINT EF2"
   ]
  },
  {
   "cell_type": "code",
   "execution_count": 24,
   "metadata": {
    "collapsed": false
   },
   "outputs": [
    {
     "name": "stdout",
     "output_type": "stream",
     "text": [
      "\n",
      "MF3:\n",
      "[[ 12307.69231 -21538.46154 -12307.69231  21538.46154]\n",
      " [     0.           0.           0.           0.     ]\n",
      " [-12307.69231  21538.46154  12307.69231 -21538.46154]\n",
      " [     0.           0.           0.           0.     ]]\n",
      "EF3:\n",
      "[[ 76200.26873]\n",
      " [     0.     ]\n",
      " [-76200.26873]\n",
      " [     0.     ]]\n"
     ]
    }
   ],
   "source": [
    "%%CAL86\n",
    "MEMFRC MF3 D LM EF3 N=3\n",
    "PRINT MF3\n",
    "PRINT EF3"
   ]
  },
  {
   "cell_type": "code",
   "execution_count": 25,
   "metadata": {
    "collapsed": false
   },
   "outputs": [
    {
     "name": "stdout",
     "output_type": "stream",
     "text": [
      "\n",
      "MF4:\n",
      "[[ -3200.  22400.   3200. -22400.]\n",
      " [     0.      0.      0.      0.]\n",
      " [  3200. -22400.  -3200.  22400.]\n",
      " [     0.      0.      0.      0.]]\n",
      "EF4:\n",
      "[[-42772.51633]\n",
      " [     0.     ]\n",
      " [ 42772.51633]\n",
      " [     0.     ]]\n"
     ]
    }
   ],
   "source": [
    "%%CAL86\n",
    "MEMFRC MF4 D LM EF4 N=4\n",
    "PRINT MF4\n",
    "PRINT EF4"
   ]
  },
  {
   "cell_type": "code",
   "execution_count": 26,
   "metadata": {
    "collapsed": false
   },
   "outputs": [
    {
     "name": "stdout",
     "output_type": "stream",
     "text": [
      "\n",
      "MF5:\n",
      "[[ 40000.      0. -40000.      0.]\n",
      " [     0.      0.      0.      0.]\n",
      " [-40000.      0.  40000.      0.]\n",
      " [     0.      0.      0.      0.]]\n",
      "EF5:\n",
      "[[-37805.92043]\n",
      " [     0.     ]\n",
      " [ 37805.92043]\n",
      " [     0.     ]]\n"
     ]
    }
   ],
   "source": [
    "%%CAL86\n",
    "MEMFRC MF5 D LM EF5 N=5\n",
    "PRINT MF5\n",
    "PRINT EF5"
   ]
  }
 ],
 "metadata": {
  "kernelspec": {
   "display_name": "Python 2",
   "language": "python",
   "name": "python2"
  },
  "language_info": {
   "codemirror_mode": {
    "name": "ipython",
    "version": 2
   },
   "file_extension": ".py",
   "mimetype": "text/x-python",
   "name": "python",
   "nbconvert_exporter": "python",
   "pygments_lexer": "ipython2",
   "version": "2.7.6"
  },
  "widgets": {
   "state": {},
   "version": "1.1.1"
  }
 },
 "nbformat": 4,
 "nbformat_minor": 1
}
