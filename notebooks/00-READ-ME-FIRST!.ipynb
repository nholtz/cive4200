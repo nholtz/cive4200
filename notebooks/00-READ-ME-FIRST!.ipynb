{
 "cells": [
  {
   "cell_type": "markdown",
   "metadata": {},
   "source": [
    "# PyCAL86\n",
    "This set of notebooks describes PyCAL86 - a python implemention for notebooks of a portion of\n",
    "CAL86 (or is it CAL90? I'm not sure.)\n",
    "\n",
    "Here are some important links:"
   ]
  },
  {
   "cell_type": "markdown",
   "metadata": {},
   "source": [
    "* **[Introduction to Notebooks](01-Notebook-Introduction.ipynb)** - a basic introduction to Jupyter and IPython notebooks.  It is highly recommended that you familiarize yourself with this material before reading further.\n",
    "\n",
    "* **[Example: Assignment 2 Question 4](A2Q4-Full-Explanation.ipynb)** - Assignment 2, Problem 4, CIVE4200, 2015/16.  The original assignment had this done using the traditional CAL; here we show it done in PyCAL86 with many annotations to explain the method.  It is worth noting that almost all the CAL statements were copied verbatim from the TAs solution.\n",
    "\n",
    "* **[Example: Assignment 2 Question 4](A2Q4-Compact-Solution.ipynb)** - the same problem and solution as above, but without the extra annotation.  This is very similar to what a student might submit."
   ]
  },
  {
   "cell_type": "markdown",
   "metadata": {},
   "source": [
    "### Other examples and Documentation"
   ]
  },
  {
   "cell_type": "markdown",
   "metadata": {},
   "source": [
    "* **[PyCAL86-Doc.ipynb](PyCAL86-Doc.ipynb)** - PyCAL86 documentation.\n",
    "\n",
    "* **[PyCAL86-Diffs.ipynb](PyCAL86-Diffs.ipynb)** - Differences between CAL and PyCAL86.\n",
    "\n",
    "* **[CAL Manual.pdf](CAL Manual.pdf)** - original CAL documentation.\n",
    "\n",
    "* ** [CAL-2DEX.ipynb](CAL-2DEX.ipynb)** - Example 2DEX from the CAL documention, redone in PyCAL86."
   ]
  },
  {
   "cell_type": "markdown",
   "metadata": {},
   "source": [
    "### Other Ways of Using CAL\n",
    "The traditional 'batch' oriented way of using CAL is also available by means\n",
    "of a Jupyter interactive terminal window.  See:\n",
    "\n",
    "* **[/cal](/tree/cal)** -- a folder containing the old CAL FORTRAN executable.\n",
    "* **[/cal/README](/tree/cal/README)** -- some instructions on how to use it.\n",
    "\n",
    "I believe, though, that PyCAL86, above, is preferred."
   ]
  }
 ],
 "metadata": {
  "kernelspec": {
   "display_name": "Python 2",
   "language": "python",
   "name": "python2"
  },
  "language_info": {
   "codemirror_mode": {
    "name": "ipython",
    "version": 2
   },
   "file_extension": ".py",
   "mimetype": "text/x-python",
   "name": "python",
   "nbconvert_exporter": "python",
   "pygments_lexer": "ipython2",
   "version": "2.7.6"
  },
  "widgets": {
   "state": {},
   "version": "1.1.1"
  }
 },
 "nbformat": 4,
 "nbformat_minor": 0
}
