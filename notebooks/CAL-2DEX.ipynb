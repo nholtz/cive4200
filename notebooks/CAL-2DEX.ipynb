{
 "cells": [
  {
   "cell_type": "markdown",
   "metadata": {},
   "source": [
    "## Example 2DEX from CAL Manual\n",
    "![Figure One](img/cal-2dex-1.svg)\n",
    "\n",
    "![Figure Two](img/cal-2dex-2.svg)\n",
    "\n",
    "This example has been changed to add numbers to the constrained degrees of freedom.  The numbers are corrected to 0-origin, below.  But for those two items, this input file is almost identical to that given in the [CAL manual](CAL Manual.pdf)."
   ]
  },
  {
   "cell_type": "code",
   "execution_count": 1,
   "metadata": {
    "collapsed": false
   },
   "outputs": [],
   "source": [
    "import PyCAL86\n",
    "import numpy as np\n",
    "np.set_printoptions(precision=5,linewidth=200,suppress=True)"
   ]
  },
  {
   "cell_type": "code",
   "execution_count": 2,
   "metadata": {
    "collapsed": false,
    "scrolled": false
   },
   "outputs": [
    {
     "name": "stdout",
     "output_type": "stream",
     "text": [
      "\n",
      "C FORMATION OF ELEMENT MATRICES\n",
      "FRAME K1 T1 I=1000 A=20 E=30000   X=0,0     Y=150,300\n",
      "FRAME K2 T2 I=1000 A=20 E=30000   X=350,300 Y=150,300\n",
      "FRAME K3 T3 I=1000 A=20 E=30000   X=0,0     Y=0,150\n",
      "FRAME K4 T4 I=1000 A=20 E=30000   X=400,350 Y=0,150\n",
      "FRAME K5 T5 I=2000 A=30 E=30000   X=0,300   Y=300,300\n",
      "FRAME K6 T6 I=2000 A=30 E=30000   X=0,350   Y=150,150\n",
      "PRINT K4\n",
      "K4:\n",
      "[[    461.43956   -1111.09788   -6830.51975    -461.43956    1111.09788   -6830.51975]\n",
      " [  -1111.09788    3424.36723   -2276.83992    1111.09788   -3424.36723   -2276.83992]\n",
      " [  -6830.51975   -2276.83992  758946.63844    6830.51975    2276.83992  379473.31922]\n",
      " [   -461.43956    1111.09788    6830.51975     461.43956   -1111.09788    6830.51975]\n",
      " [   1111.09788   -3424.36723    2276.83992   -1111.09788    3424.36723    2276.83992]\n",
      " [  -6830.51975   -2276.83992  379473.31922    6830.51975    2276.83992  758946.63844]]\n",
      "PRINT T4\n",
      "T4:\n",
      "[[  -6830.51975   -2276.83992  758946.63844    6830.51975    2276.83992  379473.31922]\n",
      " [  -6830.51975   -2276.83992  379473.31922    6830.51975    2276.83992  758946.63844]\n",
      " [   1200.        -3600.            0.        -1200.         3600.            0.     ]\n",
      " [    -86.4         -28.8        7200.           86.4          28.8        7200.     ]]\n",
      "PRINT K5\n",
      "K5:\n",
      "[[   3000.            0.            0.        -3000.            0.            0.     ]\n",
      " [      0.           26.66667    4000.            0.          -26.66667    4000.     ]\n",
      " [      0.         4000.       800000.            0.        -4000.       400000.     ]\n",
      " [  -3000.            0.            0.         3000.            0.            0.     ]\n",
      " [      0.          -26.66667   -4000.            0.           26.66667   -4000.     ]\n",
      " [      0.         4000.       400000.            0.        -4000.       800000.     ]]\n",
      "PRINT T5\n",
      "T5:\n",
      "[[      0.         4000.       800000.            0.        -4000.       400000.     ]\n",
      " [      0.         4000.       400000.            0.        -4000.       800000.     ]\n",
      " [  -3000.            0.            0.         3000.            0.            0.     ]\n",
      " [      0.           26.66667    4000.            0.          -26.66667    4000.     ]]\n",
      "\n",
      "C LOAD LOCATION ARRAY\n",
      "\n",
      "LOADI LM R=6 C=6\n",
      " 13 14 17 15 11 13\n",
      "  7  9 18 16  8  7\n",
      "  4  5 19  6  1  4\n",
      " 11 12 13 14 12 14\n",
      "  8 10  7  9 10  9\n",
      "  1  3  4  5  2  5\n",
      "ARRAY NAME = LM    NUMBER OF ROWS =    6 NUMBER OF COLUMNS =    6\n"
     ]
    }
   ],
   "source": [
    "%%CAL86 -v\n",
    "C FORMATION OF ELEMENT MATRICES\n",
    "FRAME K1 T1 I=1000 A=20 E=30000   X=0,0     Y=150,300\n",
    "FRAME K2 T2 I=1000 A=20 E=30000   X=350,300 Y=150,300\n",
    "FRAME K3 T3 I=1000 A=20 E=30000   X=0,0     Y=0,150\n",
    "FRAME K4 T4 I=1000 A=20 E=30000   X=400,350 Y=0,150\n",
    "FRAME K5 T5 I=2000 A=30 E=30000   X=0,300   Y=300,300\n",
    "FRAME K6 T6 I=2000 A=30 E=30000   X=0,350   Y=150,150\n",
    "PRINT K4\n",
    "PRINT T4\n",
    "PRINT K5\n",
    "PRINT T5\n",
    "\n",
    "C LOAD LOCATION ARRAY\n",
    "\n",
    "LOADI LM R=6 C=6\n",
    " 13 14 17 15 11 13\n",
    "  7  9 18 16  8  7\n",
    "  4  5 19  6  1  4\n",
    " 11 12 13 14 12 14\n",
    "  8 10  7  9 10  9\n",
    "  1  3  4  5  2  5"
   ]
  },
  {
   "cell_type": "markdown",
   "metadata": {},
   "source": [
    "### Correct the DOF #s to 0-origin"
   ]
  },
  {
   "cell_type": "code",
   "execution_count": 3,
   "metadata": {
    "collapsed": false
   },
   "outputs": [],
   "source": [
    "LM = LM - 1   # adjust the DOF #s because here we start numbering at 0, not 1"
   ]
  },
  {
   "cell_type": "markdown",
   "metadata": {},
   "source": [
    "### And continue on ..."
   ]
  },
  {
   "cell_type": "code",
   "execution_count": 4,
   "metadata": {
    "collapsed": false,
    "scrolled": false
   },
   "outputs": [
    {
     "name": "stdout",
     "output_type": "stream",
     "text": [
      "\n",
      "PRINT LM\n",
      "LM:\n",
      "[[12 13 16 14 10 12]\n",
      " [ 6  8 17 15  7  6]\n",
      " [ 3  4 18  5  0  3]\n",
      " [10 11 12 13 11 13]\n",
      " [ 7  9  6  8  9  8]\n",
      " [ 0  2  3  4  1  4]]\n",
      "\n",
      "C FORMATION OF GLOBAL STIFFNESS MATRIX\n",
      "ZERO K R=19 C=19\n",
      "ADDK K K1 LM N=1-1\n",
      "ADDK K K2 LM N=2-1\n",
      "ADDK K K3 LM N=3-1\n",
      "ADDK K K4 LM N=4-1\n",
      "ADDK K K5 LM N=5-1\n",
      "ADDK K K6 LM N=6-1\n",
      "C ENTER LOAD MATRIX\n",
      "\n",
      "LOAD PT R=1 C=19\n",
      "0 0 0 0 0 0 0 0 0 0 5 0 10 0 0 0 0 0 0\n",
      "ARRAY NAME = PT    NUMBER OF ROWS =    1 NUMBER OF COLUMNS =   19\n",
      "\n",
      "TRAN PT P\n",
      "P P\n",
      "P:\n",
      "[[  0.]\n",
      " [  0.]\n",
      " [  0.]\n",
      " [  0.]\n",
      " [  0.]\n",
      " [  0.]\n",
      " [  0.]\n",
      " [  0.]\n",
      " [  0.]\n",
      " [  0.]\n",
      " [  5.]\n",
      " [  0.]\n",
      " [ 10.]\n",
      " [  0.]\n",
      " [  0.]\n",
      " [  0.]\n",
      " [  0.]\n",
      " [  0.]\n",
      " [  0.]]\n",
      "ZERO D R=19 C=1\n",
      "C SOLVE EQUILIBRIUM EQUATIONS\n",
      "PSOLVE K D P  PS=15\n",
      "P P\n",
      "P:\n",
      "[[    0.     ]\n",
      " [    0.     ]\n",
      " [    0.     ]\n",
      " [    0.     ]\n",
      " [    0.     ]\n",
      " [    0.     ]\n",
      " [    0.     ]\n",
      " [    0.     ]\n",
      " [    0.     ]\n",
      " [    0.     ]\n",
      " [    5.     ]\n",
      " [    0.     ]\n",
      " [   10.     ]\n",
      " [    0.     ]\n",
      " [    0.     ]\n",
      " [    4.05465]\n",
      " [  -15.     ]\n",
      " [   -4.05465]\n",
      " [ 1378.13964]]\n",
      "P D\n",
      "D:\n",
      "[[-0.00038]\n",
      " [ 0.00029]\n",
      " [-0.00134]\n",
      " [-0.00127]\n",
      " [ 0.00006]\n",
      " [ 0.00059]\n",
      " [ 0.00101]\n",
      " [ 0.00124]\n",
      " [-0.02166]\n",
      " [ 0.02152]\n",
      " [ 0.36958]\n",
      " [ 0.36831]\n",
      " [ 0.23555]\n",
      " [ 0.23704]\n",
      " [ 0.29882]\n",
      " [ 0.     ]\n",
      " [ 0.     ]\n",
      " [ 0.     ]\n",
      " [ 0.     ]]\n",
      "\n",
      "C CALCULATE MEMBER FORCES - LOCAL SYSTEM\n",
      "MEMFRC T1 D LM F1 N=1-1\n",
      "P F1\n",
      "F1:\n",
      "[[ -90.42197]\n",
      " [ 265.74462]\n",
      " [   0.88582]\n",
      " [   1.16882]]\n",
      "MEMFRC T2 D LM F2 N=2-1\n",
      "P F2\n",
      "F2:\n",
      "[[ 530.38657]\n",
      " [   0.     ]\n",
      " [  -2.05188]\n",
      " [   3.35446]]\n",
      "MEMFRC T3 D LM F3 N=3-1\n",
      "P F3\n",
      "F3:\n",
      "[[ 1378.13964]\n",
      " [  871.86036]\n",
      " [    4.05465]\n",
      " [   15.     ]]\n",
      "MEMFRC T4 D LM F4 N=4-1\n",
      "P F4\n",
      "F4:\n",
      "[[  -0.     ]\n",
      " [-202.73254]\n",
      " [  -3.84658]\n",
      " [  -1.28219]]\n",
      "MEMFRC T5 D LM F5 N=5-1\n",
      "P F5\n",
      "F5:\n",
      "[[-265.74462]\n",
      " [  -0.     ]\n",
      " [  -3.83118]\n",
      " [  -0.88582]]\n",
      "MEMFRC T6 D LM F6 N=6-1\n",
      "P F6\n",
      "F6:\n",
      "[[-781.43839]\n",
      " [-327.65403]\n",
      " [   3.83118]\n",
      " [  -3.16884]]\n",
      "C CALCULATE MEMBER FORCES - GLOBAL SYSTEM\n",
      "MEMFRC K4 D LM G4 N=4-1\n",
      "P G4\n",
      "G4:\n",
      "[[  -0.     ]\n",
      " [   4.05465]\n",
      " [  -0.     ]\n",
      " [   0.     ]\n",
      " [  -4.05465]\n",
      " [-202.73254]]\n"
     ]
    }
   ],
   "source": [
    "%%CAL86 -v\n",
    "PRINT LM\n",
    "\n",
    "C FORMATION OF GLOBAL STIFFNESS MATRIX\n",
    "ZERO K R=19 C=19\n",
    "ADDK K K1 LM N=1-1\n",
    "ADDK K K2 LM N=2-1\n",
    "ADDK K K3 LM N=3-1\n",
    "ADDK K K4 LM N=4-1\n",
    "ADDK K K5 LM N=5-1\n",
    "ADDK K K6 LM N=6-1\n",
    "C ENTER LOAD MATRIX\n",
    "\n",
    "LOAD PT R=1 C=19\n",
    "0 0 0 0 0 0 0 0 0 0 5 0 10 0 0 0 0 0 0\n",
    "\n",
    "TRAN PT P\n",
    "P P\n",
    "ZERO D R=19 C=1\n",
    "C SOLVE EQUILIBRIUM EQUATIONS\n",
    "PSOLVE K D P  PS=15\n",
    "P P\n",
    "P D\n",
    "\n",
    "C CALCULATE MEMBER FORCES - LOCAL SYSTEM\n",
    "MEMFRC T1 D LM F1 N=1-1\n",
    "P F1\n",
    "MEMFRC T2 D LM F2 N=2-1\n",
    "P F2\n",
    "MEMFRC T3 D LM F3 N=3-1\n",
    "P F3\n",
    "MEMFRC T4 D LM F4 N=4-1\n",
    "P F4\n",
    "MEMFRC T5 D LM F5 N=5-1\n",
    "P F5\n",
    "MEMFRC T6 D LM F6 N=6-1\n",
    "P F6\n",
    "C CALCULATE MEMBER FORCES - GLOBAL SYSTEM\n",
    "MEMFRC K4 D LM G4 N=4-1\n",
    "P G4"
   ]
  },
  {
   "cell_type": "markdown",
   "metadata": {},
   "source": [
    "### Force Numbering"
   ]
  },
  {
   "cell_type": "markdown",
   "metadata": {},
   "source": [
    "![Signs](img/2d-signs.svg)"
   ]
  },
  {
   "cell_type": "code",
   "execution_count": 7,
   "metadata": {
    "collapsed": true
   },
   "outputs": [],
   "source": [
    "%matplotlib inline\n",
    "import numpy as np\n",
    "import matplotlib.pylab as plt"
   ]
  },
  {
   "cell_type": "markdown",
   "metadata": {},
   "source": [
    "### Bending Moment Diagram, Member 5"
   ]
  },
  {
   "cell_type": "code",
   "execution_count": 6,
   "metadata": {
    "collapsed": false
   },
   "outputs": [
    {
     "data": {
      "text/plain": [
       "matrix([[-265.74462],\n",
       "        [  -0.     ],\n",
       "        [  -3.83118],\n",
       "        [  -0.88582]])"
      ]
     },
     "execution_count": 6,
     "metadata": {},
     "output_type": "execute_result"
    }
   ],
   "source": [
    "F5"
   ]
  },
  {
   "cell_type": "code",
   "execution_count": 8,
   "metadata": {
    "collapsed": true
   },
   "outputs": [],
   "source": [
    "x = np.linspace(0,300)\n",
    "m5 = F5[3,0]*x - F5[0,0]\n",
    "plt.plot(x,m5)\n",
    "plt.grid(True)"
   ]
  },
  {
   "cell_type": "markdown",
   "metadata": {},
   "source": [
    "### Bending Moment Diagram, Member 6"
   ]
  },
  {
   "cell_type": "code",
   "execution_count": 17,
   "metadata": {
    "collapsed": false
   },
   "outputs": [
    {
     "data": {
      "text/plain": [
       "matrix([[-781.43839],\n",
       "        [-327.65403],\n",
       "        [   3.83118],\n",
       "        [  -3.16884]])"
      ]
     },
     "execution_count": 17,
     "metadata": {},
     "output_type": "execute_result"
    }
   ],
   "source": [
    "F6"
   ]
  },
  {
   "cell_type": "code",
   "execution_count": 18,
   "metadata": {
    "collapsed": false
   },
   "outputs": [
    {
     "data": {
      "image/png": "[encoded data removed]",
      "text/plain": [
       "<matplotlib.figure.Figure at 0x7f5b279de690>"
      ]
     },
     "metadata": {},
     "output_type": "display_data"
    }
   ],
   "source": [
    "x = np.linspace(0,350.)\n",
    "m6 = F6[3,0]*x - F6[0,0]\n",
    "plt.plot(x,m6)\n",
    "plt.grid(True)"
   ]
  },
  {
   "cell_type": "code",
   "execution_count": 19,
   "metadata": {
    "collapsed": false
   },
   "outputs": [
    {
     "data": {
      "text/plain": [
       "-327.65402759112487"
      ]
     },
     "execution_count": 19,
     "metadata": {},
     "output_type": "execute_result"
    }
   ],
   "source": [
    "m6[-1]"
   ]
  }
 ],
 "metadata": {
  "kernelspec": {
   "display_name": "Python 2",
   "language": "python",
   "name": "python2"
  },
  "language_info": {
   "codemirror_mode": {
    "name": "ipython",
    "version": 2
   },
   "file_extension": ".py",
   "mimetype": "text/x-python",
   "name": "python",
   "nbconvert_exporter": "python",
   "pygments_lexer": "ipython2",
   "version": "2.7.6"
  },
  "widgets": {
   "state": {},
   "version": "1.1.1"
  }
 },
 "nbformat": 4,
 "nbformat_minor": 0
}
