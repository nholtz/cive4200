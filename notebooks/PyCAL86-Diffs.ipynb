{
 "cells": [
  {
   "cell_type": "markdown",
   "metadata": {},
   "source": [
    "# Differences of PyCAL86 from CAL (86 or 90 or whatever)\n",
    "\n",
    " - array indices start at 0, not 1.\n",
    " - constrained DOFs must be numbered consecutively, and numbered after the unconstrained ones.  All constrained DOFs are included in the analysis.\n",
    " - the SOLVE command does not support the various modifications to A.  Only S=0 can be specified, and even then, A is not modified.\n",
    " - a PSOLVE command is introduced for solution of partioned systems.  This solution will almost always be needed due to the fact that constrained DOFs are always included in the analysis.\n",
    " - the output of matrices looks a bit different\n",
    " - member directions are numbered 0 through 5, not 1 through 6 (consistent with 0-origin numbering).\n",
    " - only a subset of the commands are implemented.  See the [PyCAL86](PyCAL86-Doc.ipynb) documentation.\n",
    " - added a TTMULT command to form the product T' * K * T\n",
    " - added a TRUSS2D command to return the element stiffness matrix for a 2-D truss element.\n",
    " - made ADDK command work with 4x4 truss EK or 6x6 frame EK."
   ]
  },
  {
   "cell_type": "code",
   "execution_count": null,
   "metadata": {
    "collapsed": true
   },
   "outputs": [],
   "source": []
  }
 ],
 "metadata": {
  "kernelspec": {
   "display_name": "Python 2",
   "language": "python",
   "name": "python2"
  },
  "language_info": {
   "codemirror_mode": {
    "name": "ipython",
    "version": 2
   },
   "file_extension": ".py",
   "mimetype": "text/x-python",
   "name": "python",
   "nbconvert_exporter": "python",
   "pygments_lexer": "ipython2",
   "version": "2.7.6"
  }
 },
 "nbformat": 4,
 "nbformat_minor": 0
}
