{
 "cells": [
  {
   "cell_type": "markdown",
   "metadata": {},
   "source": [
    "## CIVE4200  Assignment 2, Question 4 - Extended Explanation"
   ]
  },
  {
   "cell_type": "markdown",
   "metadata": {},
   "source": [
    "This notebook illustrates the use of the Python version of CAL86 (CAL90?) to solve Question 4 of Assignment 2 of CIVE4200, 2015/16.\n",
    "\n",
    "The frame to solve is the following:\n",
    "\n",
    "![Element](img/A2Q2-fig0.svg)"
   ]
  },
  {
   "cell_type": "code",
   "execution_count": 1,
   "metadata": {
    "collapsed": false
   },
   "outputs": [],
   "source": [
    "import PyCAL86\n",
    "import numpy as np"
   ]
  },
  {
   "cell_type": "markdown",
   "metadata": {},
   "source": [
    "Neglecting axial deformations (ie, assuming infinite axial stiffness), the element\n",
    "degree-of-freedom numbering is as follows: ![Element](img/A2Q2-fig1.svg)\n",
    "Note that the numbering starts at 0 (zero) **not** 1 (one).  This is to keep array indexing\n",
    "consistent with the underlying Python array library."
   ]
  },
  {
   "cell_type": "markdown",
   "metadata": {},
   "source": [
    "$\\newcommand{\\mat}[1]{\\left[\\begin{matrix}#1\\end{matrix}\\right]}$\n",
    "The local member stiffness matrix expresses the end forces as a function of the end displacements, thus:\n",
    "$$\n",
    "K = \\frac{EI}{L}\\mat{12/L^2 & 6/L & -12/L^2 & 6/L \\\\\n",
    "                  6/L  &  4 & -6/L & 2\\\\\n",
    "                  -12/L^2 & -6/L & 12/L^2 & -6/L \\\\\n",
    "                  6/L & 2 & -6/L & 4}\n",
    "$$"
   ]
  },
  {
   "cell_type": "markdown",
   "metadata": {},
   "source": [
    "Use basic Python/numpy functionality to compute the stiffness matrix for the 4m beam (on the left):\n",
    "(this is *completely* optional - it is not required to use CAL)"
   ]
  },
  {
   "cell_type": "code",
   "execution_count": 2,
   "metadata": {
    "collapsed": false
   },
   "outputs": [
    {
     "data": {
      "text/plain": [
       "(matrix([[ 13162.5,  26325. , -13162.5,  26325. ],\n",
       "         [ 26325. ,  70200. , -26325. ,  35100. ],\n",
       "         [-13162.5, -26325. ,  13162.5, -26325. ],\n",
       "         [ 26325. ,  35100. , -26325. ,  70200. ]]), 70200.0)"
      ]
     },
     "execution_count": 2,
     "metadata": {},
     "output_type": "execute_result"
    }
   ],
   "source": [
    "E = 200000.   # N/mm^2,\n",
    "def getK(E,I,L):\n",
    "    \"\"\"Return the element stiffness matrix and EI in units of kN, m\"\"\"\n",
    "    EI = E*I / 1E3 / 1E6     # convert to kN-m^2\n",
    "    return np.mat([[  12/L**2,  6/L, -12/L**2,  6/L ],\n",
    "                   [   6/L,      4,   -6/L,      2  ],\n",
    "                   [ -12/L**2, -6/L,  12/L**2, -6/L ],\n",
    "                   [   6/L,      2,   -6/L,      4  ]]) * (EI/L), EI\n",
    "\n",
    "getK(E,351.E6,4.)   # W530x66, L=4m"
   ]
  },
  {
   "cell_type": "markdown",
   "metadata": {},
   "source": [
    "#### 1. Member Stiffness Matrices\n",
    "Now use CAL commands to input the stiffness matrices for all three members:"
   ]
  },
  {
   "cell_type": "code",
   "execution_count": 3,
   "metadata": {
    "collapsed": false
   },
   "outputs": [
    {
     "name": "stdout",
     "output_type": "stream",
     "text": [
      "K1:\n",
      "[[ 13160.  26330. -13160.  26330.]\n",
      " [ 26330.  70200. -26670.  35100.]\n",
      " [-13160. -26670.  13160. -26330.]\n",
      " [ 26330.  35100. -26330.  70200.]]\n"
     ]
    }
   ],
   "source": [
    "%%CAL86\n",
    "C        NAME: JOSHUA WOODS\n",
    "C        COURSE CIVE 4200\n",
    "C\n",
    "C QUESTION 2 FROM ASSIGNMENT 2 SOLVED USING CAL90 USING BASIC COMMANDS AND ADDK IGNORING AXIAL DEFORMATIONS\n",
    "C\n",
    "C PROBLEM\n",
    "C\n",
    "C STIFFNESS CALCULATION\n",
    "C\n",
    "C MEMBER 1 (HORIZONTAL ON LEFT , L=4 EI=70.2E3)\n",
    "C\n",
    "LOAD K1 R=4 C=4\n",
    "13.16E3 26.33E3 -13.16E3 26.33E3\n",
    "26.33E3 70.2E3 -26.67E3 35.1E3\n",
    "-13.16E3 -26.67E3 13.16E3 -26.33E3\n",
    "26.33E3 35.1E3 -26.33E3 70.2E3\n",
    "PRINT K1"
   ]
  },
  {
   "cell_type": "code",
   "execution_count": 4,
   "metadata": {
    "collapsed": false
   },
   "outputs": [
    {
     "data": {
      "text/plain": [
       "(matrix([[ 105300.,  105300., -105300.,  105300.],\n",
       "         [ 105300.,  140400., -105300.,   70200.],\n",
       "         [-105300., -105300.,  105300., -105300.],\n",
       "         [ 105300.,   70200., -105300.,  140400.]]), 70200.0)"
      ]
     },
     "execution_count": 4,
     "metadata": {},
     "output_type": "execute_result"
    }
   ],
   "source": [
    "getK(E,351.E6,2.)   # W530x66, L=2m"
   ]
  },
  {
   "cell_type": "code",
   "execution_count": 5,
   "metadata": {
    "collapsed": false
   },
   "outputs": [
    {
     "name": "stdout",
     "output_type": "stream",
     "text": [
      "K2:\n",
      "[[ 105300.  105300. -105300.  105300.]\n",
      " [ 105300.  140400. -105300.   70200.]\n",
      " [-105300. -105300.  105300. -105300.]\n",
      " [ 105300.   70200. -105300.  140400.]]\n"
     ]
    }
   ],
   "source": [
    "%%CAL86\n",
    "C\n",
    "C MEMBER2 (HORIZONTAL ON RIGHT, L=2, EI=70.2E3)\n",
    "C\n",
    "LOAD K2 R=4 C=4\n",
    "105.3E3 105.3E3 -105.3E3 105.3E3\n",
    "105.3E3 140.4E3 -105.3E3 70.2E3\n",
    "-105.3E3 -105.3E3 105.3E3 -105.3E3\n",
    "105.3E3 70.2E3 -105.3E3 140.4E3\n",
    "PRINT K2"
   ]
  },
  {
   "cell_type": "code",
   "execution_count": 6,
   "metadata": {
    "collapsed": false
   },
   "outputs": [
    {
     "data": {
      "text/plain": [
       "(matrix([[ 10675.2,  26688. , -10675.2,  26688. ],\n",
       "         [ 26688. ,  88960. , -26688. ,  44480. ],\n",
       "         [-10675.2, -26688. ,  10675.2, -26688. ],\n",
       "         [ 26688. ,  44480. , -26688. ,  88960. ]]), 111200.0)"
      ]
     },
     "execution_count": 6,
     "metadata": {},
     "output_type": "execute_result"
    }
   ],
   "source": [
    "getK(E,556.E6,5.)   # W460x113, L=5m"
   ]
  },
  {
   "cell_type": "code",
   "execution_count": 7,
   "metadata": {
    "collapsed": false
   },
   "outputs": [
    {
     "name": "stdout",
     "output_type": "stream",
     "text": [
      "KK3:\n",
      "[[ 10675.  26690. -10675.  26690.]\n",
      " [ 26690.  88960. -26690.  44480.]\n",
      " [-10675. -26690.  10675. -26690.]\n",
      " [ 26690.  44480. -26690.  88960.]]\n"
     ]
    }
   ],
   "source": [
    "%%CAL86\n",
    "C\n",
    "C MEMBER 3 (VERTICAL COLUMN MEMBER, L=5, EI=111.2E3, THETA=90)\n",
    "LOAD KK3 R=4 C=4\n",
    "10.675E3 26.69E3 -10.675E3 26.69E3\n",
    "26.69E3 88.96E3 -26.69E3 44.48E3\n",
    "-10.675E3 -26.69E3 10.675E3 -26.69E3\n",
    "26.69E3 44.48E3 -26.69E3 88.96E3\n",
    "PRINT KK3"
   ]
  },
  {
   "cell_type": "code",
   "execution_count": 8,
   "metadata": {
    "collapsed": false
   },
   "outputs": [
    {
     "name": "stdout",
     "output_type": "stream",
     "text": [
      "A1:\n",
      "[[ 1.  0.  0.  0.]\n",
      " [ 0.  1.  0.  0.]\n",
      " [ 0.  0.  1.  0.]\n",
      " [ 0.  0.  0.  1.]]\n"
     ]
    }
   ],
   "source": [
    "%%CAL86\n",
    "C\n",
    "C TRANSFORMATION MATRIX FOR THETA=90\n",
    "C\n",
    "LOAD A1 R=4 C=4\n",
    "1. 0. 0. 0.\n",
    "0. 1. 0. 0.\n",
    "0. 0. 1. 0.\n",
    "0. 0. 0. 1.\n",
    "PRINT A1"
   ]
  },
  {
   "cell_type": "markdown",
   "metadata": {},
   "source": [
    "Form $\\left[KA3\\right] = \\left[KK3\\right] \\left[A1\\right]$:"
   ]
  },
  {
   "cell_type": "code",
   "execution_count": 9,
   "metadata": {
    "collapsed": false
   },
   "outputs": [
    {
     "name": "stdout",
     "output_type": "stream",
     "text": [
      "KA3:\n",
      "[[ 10675.  26690. -10675.  26690.]\n",
      " [ 26690.  88960. -26690.  44480.]\n",
      " [-10675. -26690.  10675. -26690.]\n",
      " [ 26690.  44480. -26690.  88960.]]\n"
     ]
    }
   ],
   "source": [
    "%%CAL86\n",
    "C\n",
    "C FORCE-DISPLACEMENT TRANFORMATION MATRIX\n",
    "C\n",
    "MULT KK3 A1 KA3\n",
    "PRINT KA3"
   ]
  },
  {
   "cell_type": "markdown",
   "metadata": {},
   "source": [
    "Form $\\left[K3\\right] = \\left[A1\\right]^T\\left[KA3\\right] = \\left[A1\\right]^T \\left[KK3\\right] \\left[A1\\right]$:"
   ]
  },
  {
   "cell_type": "code",
   "execution_count": 10,
   "metadata": {
    "collapsed": false
   },
   "outputs": [
    {
     "name": "stdout",
     "output_type": "stream",
     "text": [
      "K3:\n",
      "[[ 10675.  26690. -10675.  26690.]\n",
      " [ 26690.  88960. -26690.  44480.]\n",
      " [-10675. -26690.  10675. -26690.]\n",
      " [ 26690.  44480. -26690.  88960.]]\n"
     ]
    }
   ],
   "source": [
    "%%CAL86\n",
    "C\n",
    "TRAN A1 A1T\n",
    "MULT A1T KA3 K3\n",
    "PRINT K3"
   ]
  },
  {
   "cell_type": "markdown",
   "metadata": {},
   "source": [
    "#### 2. Numbering the Frame DOFs\n",
    "At each joint, we number the DOFs corresponding to the DOF directions at\n",
    "each attached member end (each member must have the\n",
    "four DOFs shown in an earlier figure).   All DOFs are numbered, starting with 0 (zero); the unconstrained DOFs\n",
    "are numbered consecutively before the constrained DOFs.\n",
    "\n",
    "Note that DOF's 4, 7, and 8 are constrained because of the support conditions and 5 and 6 are\n",
    "constrained because of the assumed infinite axial stiffness of beam M1 and column M3.  So 0 through 3 are\n",
    "unconstrained DOFs and 4 through 8 are constrained DOFs."
   ]
  },
  {
   "cell_type": "markdown",
   "metadata": {},
   "source": [
    "![Element](img/A2Q2-fig2.svg)"
   ]
  },
  {
   "cell_type": "markdown",
   "metadata": {},
   "source": [
    "In the following matrix, the first column is for member M1, and it specifies that global DOF's 4, 0, 5 and 1 correspond to its local DOFs 0, 1, 2 and 3:"
   ]
  },
  {
   "cell_type": "code",
   "execution_count": 11,
   "metadata": {
    "collapsed": false
   },
   "outputs": [
    {
     "name": "stdout",
     "output_type": "stream",
     "text": [
      "LM:\n",
      "[[4 5 7]\n",
      " [0 1 8]\n",
      " [5 3 6]\n",
      " [1 2 1]]\n"
     ]
    }
   ],
   "source": [
    "%%CAL86\n",
    "C\n",
    "C DIRECT STIFFNESS ASSEMBLY OF GLOBAL STRUCTURAL STIFFNESS\n",
    "C\n",
    "C LOCAL-STRUCTURAL DOF RELATION OR LOCATION ARRAY\n",
    "C\n",
    "LOADI LM R=4 C=3\n",
    "4 5 7\n",
    "0 1 8\n",
    "5 3 6\n",
    "1 2 1\n",
    "PRINT LM"
   ]
  },
  {
   "cell_type": "markdown",
   "metadata": {},
   "source": [
    "#### 3. Assemble the Global Stiffness Matrix"
   ]
  },
  {
   "cell_type": "code",
   "execution_count": 12,
   "metadata": {
    "collapsed": false
   },
   "outputs": [
    {
     "name": "stdout",
     "output_type": "stream",
     "text": [
      "K:\n",
      "[[  70200.   35100.       0.       0.   26330.  -26670.       0.       0.       0.]\n",
      " [  35100.  299560.   70200. -105300.   26330.   78970.  -26690.   26690.   44480.]\n",
      " [      0.   70200.  140400. -105300.       0.  105300.       0.       0.       0.]\n",
      " [      0. -105300. -105300.  105300.       0. -105300.       0.       0.       0.]\n",
      " [  26330.   26330.       0.       0.   13160.  -13160.       0.       0.       0.]\n",
      " [ -26670.   78970.  105300. -105300.  -13160.  118460.       0.       0.       0.]\n",
      " [      0.  -26690.       0.       0.       0.       0.   10675.  -10675.  -26690.]\n",
      " [      0.   26690.       0.       0.       0.       0.  -10675.   10675.   26690.]\n",
      " [      0.   44480.       0.       0.       0.       0.  -26690.   26690.   88960.]]\n"
     ]
    }
   ],
   "source": [
    "%%CAL86\n",
    "C\n",
    "ZERO K R=9 C=9\n",
    "ADDK K K1 LM N=0\n",
    "ADDK K K2 LM N=1\n",
    "ADDK K K3 LM N=2\n",
    "C\n",
    "C ASSEMBLED GLOBAL STRUCTURAL STIFFNESS\n",
    "PRINT K"
   ]
  },
  {
   "cell_type": "markdown",
   "metadata": {},
   "source": [
    "#### 4. Input the Loads and Constrained Displacements"
   ]
  },
  {
   "cell_type": "code",
   "execution_count": 13,
   "metadata": {
    "collapsed": false
   },
   "outputs": [
    {
     "name": "stdout",
     "output_type": "stream",
     "text": [
      "R:\n",
      "[[-16.]\n",
      " [ 12.]\n",
      " [  4.]\n",
      " [-17.]\n",
      " [  0.]\n",
      " [  0.]\n",
      " [  0.]\n",
      " [  0.]\n",
      " [  0.]]\n"
     ]
    }
   ],
   "source": [
    "%%CAL86\n",
    "C\n",
    "C LOAD VECTOR WITH FIXED END FORCES\n",
    "LOAD R R=9 C=1\n",
    "-16.\n",
    "12.\n",
    "4.\n",
    "-17.\n",
    "0\n",
    "0\n",
    "0\n",
    "0\n",
    "0\n",
    "PRINT R\n",
    "C\n",
    "C DISPLACEMENT VECTOR\n",
    "ZERO D R=9 C=1"
   ]
  },
  {
   "cell_type": "markdown",
   "metadata": {},
   "source": [
    "#### 5. Solve for Displacements and Member End Forces"
   ]
  },
  {
   "cell_type": "code",
   "execution_count": 14,
   "metadata": {
    "collapsed": false
   },
   "outputs": [
    {
     "name": "stdout",
     "output_type": "stream",
     "text": [
      "D:\n",
      "[[-0.00019]\n",
      " [-0.00007]\n",
      " [-0.00044]\n",
      " [-0.00067]\n",
      " [ 0.     ]\n",
      " [ 0.     ]\n",
      " [ 0.     ]\n",
      " [ 0.     ]\n",
      " [ 0.     ]]\n",
      "R:\n",
      "[[-16.     ]\n",
      " [ 12.     ]\n",
      " [  4.     ]\n",
      " [-17.     ]\n",
      " [ -6.93081]\n",
      " [ 23.99629]\n",
      " [  1.88475]\n",
      " [ -1.88475]\n",
      " [ -3.14102]]\n",
      "F1:\n",
      "[[ -6.93081]\n",
      " [-16.     ]\n",
      " [  6.99629]\n",
      " [-11.71796]]\n",
      "F2:\n",
      "[[ 17.]\n",
      " [ 30.]\n",
      " [-17.]\n",
      " [  4.]]\n",
      "F3:\n",
      "[[-1.88475]\n",
      " [-3.14102]\n",
      " [ 1.88475]\n",
      " [-6.28204]]\n"
     ]
    }
   ],
   "source": [
    "%%CAL86\n",
    "C  IN THE FOLLOWING, PS IS PARTITION SIZE (# OF UNCONSTRAINED DOFs)\n",
    "PSOLVE K D R PS=4\n",
    "PRINT D\n",
    "PRINT R\n",
    "C\n",
    "C MEMBER FORCES W / FIXED END FORCES\n",
    "C\n",
    "MEMFRC K1 D LM F1 N=0\n",
    "C MEMBER FORCES MEMBER 1\n",
    "PRINT F1\n",
    "C\n",
    "MEMFRC K2 D LM F2 N=1\n",
    "C MEMBER FORCES MEMBER 2\n",
    "PRINT F2\n",
    "C\n",
    "MEMFRC KA3 D LM F3 N=2\n",
    "C MEMBER FORCES MEMBER 3\n",
    "PRINT F3"
   ]
  },
  {
   "cell_type": "code",
   "execution_count": 15,
   "metadata": {
    "collapsed": false
   },
   "outputs": [
    {
     "name": "stdout",
     "output_type": "stream",
     "text": [
      "FE1:\n",
      "[[ 24.]\n",
      " [ 16.]\n",
      " [ 24.]\n",
      " [-16.]]\n",
      "FE2:\n",
      "[[ 12.]\n",
      " [  4.]\n",
      " [ 12.]\n",
      " [ -4.]]\n",
      "F1:\n",
      "[[ 17.06919]\n",
      " [  0.     ]\n",
      " [ 30.99629]\n",
      " [-27.71796]]\n",
      "F2:\n",
      "[[ 29.]\n",
      " [ 34.]\n",
      " [ -5.]\n",
      " [  0.]]\n"
     ]
    }
   ],
   "source": [
    "%%CAL86\n",
    "C\n",
    "C ADD FIXED END FORCES TO MEMBER 2\n",
    "C\n",
    "LOAD FE1 R=4 C=1\n",
    "24.\n",
    "16.\n",
    "24.\n",
    "-16.\n",
    "PRINT FE1\n",
    "C\n",
    "LOAD FE2 R=4 C=1\n",
    "12.\n",
    "4.\n",
    "12.\n",
    "-4.\n",
    "PRINT FE2\n",
    "C\n",
    "ADD F1 FE1\n",
    "ADD F2 FE2\n",
    "PRINT F1\n",
    "PRINT F2\n",
    "C\n",
    "C PROBLEM COMPLETE ALL MEMBER FORCES AND NODAL DISPLACEMENTS HAVE BEEN DETERMINED\n",
    "C RETURN"
   ]
  },
  {
   "cell_type": "code",
   "execution_count": null,
   "metadata": {
    "collapsed": true
   },
   "outputs": [],
   "source": []
  }
 ],
 "metadata": {
  "kernelspec": {
   "display_name": "Python 2",
   "language": "python",
   "name": "python2"
  },
  "language_info": {
   "codemirror_mode": {
    "name": "ipython",
    "version": 2
   },
   "file_extension": ".py",
   "mimetype": "text/x-python",
   "name": "python",
   "nbconvert_exporter": "python",
   "pygments_lexer": "ipython2",
   "version": "2.7.6"
  },
  "widgets": {
   "state": {},
   "version": "1.1.1"
  }
 },
 "nbformat": 4,
 "nbformat_minor": 0
}
